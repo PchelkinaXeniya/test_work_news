{
 "cells": [
  {
   "cell_type": "code",
   "execution_count": 38,
   "metadata": {
    "id": "RGNOe7r2N1dx"
   },
   "outputs": [],
   "source": [
    "#!pip install gensim==3.8 pymorphy2 razdel"
   ]
  },
  {
   "cell_type": "code",
   "execution_count": 1,
   "metadata": {
    "colab": {
     "base_uri": "https://localhost:8080/"
    },
    "id": "sx9WbRDgMwAI",
    "outputId": "fd4902a0-2884-45ba-d654-39d143424a2d"
   },
   "outputs": [
    {
     "name": "stderr",
     "output_type": "stream",
     "text": [
      "[nltk_data] Downloading package stopwords to\n",
      "[nltk_data]     /Users/xeniyapchelkina/nltk_data...\n",
      "[nltk_data]   Package stopwords is already up-to-date!\n"
     ]
    }
   ],
   "source": [
    "import zipfile\n",
    "\n",
    "import nltk\n",
    "nltk.download('stopwords')\n",
    "import numpy as np\n",
    "import pandas as pd\n",
    "\n",
    "import gensim \n",
    "import pymorphy2\n",
    "import razdel\n",
    "\n",
    "import sklearn\n",
    "import sklearn.linear_model\n",
    "import sklearn.model_selection\n",
    "import sklearn.preprocessing\n",
    "\n",
    "from tqdm.auto import tqdm\n",
    "tqdm.pandas()\n",
    "\n",
    "morph = pymorphy2.MorphAnalyzer()"
   ]
  },
  {
   "cell_type": "code",
   "execution_count": 2,
   "metadata": {
    "colab": {
     "base_uri": "https://localhost:8080/"
    },
    "id": "Hk8QBlGrckjW",
    "outputId": "55d847f3-285a-470e-e8e1-680983086fcd"
   },
   "outputs": [],
   "source": [
    "#! wget -O data.csv https://www.dropbox.com/s/96rv8lcpbog4chl/data.csv?dl=0"
   ]
  },
  {
   "cell_type": "markdown",
   "metadata": {
    "id": "Sjh09HuNds-a"
   },
   "source": [
    "Вам предоставляется набор из 2156 текстов новостных статей по различной тематике, собранных из интернета. Данные представлены в файле data.csv в виде текст-тема. Вам необходимо проанализировать данные тексты и построить модель, которая будет предсказывать тему новости.\n",
    "В ReadMe необходимо обосновать выбор модели и метрик по ее оценке.\n"
   ]
  },
  {
   "cell_type": "code",
   "execution_count": 6,
   "metadata": {
    "colab": {
     "base_uri": "https://localhost:8080/"
    },
    "id": "SFN_IqumcmUJ",
    "outputId": "2266a4d1-9edc-4125-b7a0-022c88a15da3"
   },
   "outputs": [
    {
     "data": {
      "text/plain": [
       "(2156, 2)"
      ]
     },
     "execution_count": 6,
     "metadata": {},
     "output_type": "execute_result"
    }
   ],
   "source": [
    "df = pd.read_csv('data.csv')\n",
    "df.shape"
   ]
  },
  {
   "cell_type": "code",
   "execution_count": 7,
   "metadata": {
    "colab": {
     "base_uri": "https://localhost:8080/",
     "height": 206
    },
    "id": "N5WGo_lxdL_w",
    "outputId": "00934762-5b85-493d-c991-3c3404f9d988"
   },
   "outputs": [
    {
     "data": {
      "text/html": [
       "<div>\n",
       "<style scoped>\n",
       "    .dataframe tbody tr th:only-of-type {\n",
       "        vertical-align: middle;\n",
       "    }\n",
       "\n",
       "    .dataframe tbody tr th {\n",
       "        vertical-align: top;\n",
       "    }\n",
       "\n",
       "    .dataframe thead th {\n",
       "        text-align: right;\n",
       "    }\n",
       "</style>\n",
       "<table border=\"1\" class=\"dataframe\">\n",
       "  <thead>\n",
       "    <tr style=\"text-align: right;\">\n",
       "      <th></th>\n",
       "      <th>text</th>\n",
       "      <th>label</th>\n",
       "    </tr>\n",
       "  </thead>\n",
       "  <tbody>\n",
       "    <tr>\n",
       "      <th>9</th>\n",
       "      <td>CGTN: Китай призывает к многостороннему подход...</td>\n",
       "      <td>Международные отношения</td>\n",
       "    </tr>\n",
       "    <tr>\n",
       "      <th>1192</th>\n",
       "      <td>Названо лучшее время для покупки долларов\\nМос...</td>\n",
       "      <td>не по теме</td>\n",
       "    </tr>\n",
       "    <tr>\n",
       "      <th>687</th>\n",
       "      <td>Дагестан перешёл на самоочищение\\nНейтрализова...</td>\n",
       "      <td>не по теме</td>\n",
       "    </tr>\n",
       "    <tr>\n",
       "      <th>487</th>\n",
       "      <td>ВСУ обстреляли окраины Горловки из гранатомёта...</td>\n",
       "      <td>военная тематика</td>\n",
       "    </tr>\n",
       "    <tr>\n",
       "      <th>1667</th>\n",
       "      <td>Россиянин украл яхту в Турции и сел на мель в ...</td>\n",
       "      <td>военная тематика</td>\n",
       "    </tr>\n",
       "  </tbody>\n",
       "</table>\n",
       "</div>"
      ],
      "text/plain": [
       "                                                   text  \\\n",
       "9     CGTN: Китай призывает к многостороннему подход...   \n",
       "1192  Названо лучшее время для покупки долларов\\nМос...   \n",
       "687   Дагестан перешёл на самоочищение\\nНейтрализова...   \n",
       "487   ВСУ обстреляли окраины Горловки из гранатомёта...   \n",
       "1667  Россиянин украл яхту в Турции и сел на мель в ...   \n",
       "\n",
       "                        label  \n",
       "9     Международные отношения  \n",
       "1192               не по теме  \n",
       "687                не по теме  \n",
       "487          военная тематика  \n",
       "1667         военная тематика  "
      ]
     },
     "execution_count": 7,
     "metadata": {},
     "output_type": "execute_result"
    }
   ],
   "source": [
    "df.sample(n=5)"
   ]
  },
  {
   "cell_type": "code",
   "execution_count": 9,
   "metadata": {
    "colab": {
     "base_uri": "https://localhost:8080/"
    },
    "id": "UrUhsfUQcyOY",
    "outputId": "1bd55301-b62f-474c-ca17-335a7bd8fb06"
   },
   "outputs": [
    {
     "data": {
      "text/plain": [
       "count     2156.000000\n",
       "mean      6459.500464\n",
       "std       9858.465399\n",
       "min        339.000000\n",
       "50%       1998.500000\n",
       "60%       2617.000000\n",
       "70%       3959.500000\n",
       "80%       6690.000000\n",
       "90%      27676.000000\n",
       "95%      31083.000000\n",
       "100%     41822.000000\n",
       "max      41822.000000\n",
       "Name: text, dtype: float64"
      ]
     },
     "execution_count": 9,
     "metadata": {},
     "output_type": "execute_result"
    }
   ],
   "source": [
    "df['text'].apply(len).describe(percentiles=[0.5, 0.6, 0.7, 0.8, 0.9, 0.95, 1.0])"
   ]
  },
  {
   "cell_type": "code",
   "execution_count": 12,
   "metadata": {
    "colab": {
     "base_uri": "https://localhost:8080/"
    },
    "id": "jc34hpFi5sru",
    "outputId": "443973a5-11f3-4eec-99a5-f11465240b9f"
   },
   "outputs": [
    {
     "data": {
      "text/plain": [
       "не по теме                 891\n",
       "политика                   357\n",
       "COVID-19                   249\n",
       "Международные отношения    177\n",
       "мнения                     131\n",
       "военная тематика           112\n",
       "аналитика                  101\n",
       "торговля                    72\n",
       "меры поддержки              31\n",
       "проекты                     12\n",
       "Россия                      10\n",
       "инвестиция                   9\n",
       "Социологические опросы       4\n",
       "Name: label, dtype: int64"
      ]
     },
     "execution_count": 12,
     "metadata": {},
     "output_type": "execute_result"
    }
   ],
   "source": [
    "df['label'].value_counts()  # spam / ne-spam"
   ]
  },
  {
   "cell_type": "code",
   "execution_count": 13,
   "metadata": {
    "colab": {
     "base_uri": "https://localhost:8080/"
    },
    "id": "Dg7JTUaWgWnM",
    "outputId": "e5e1eb77-e947-46ab-d7e0-62fed3252fee"
   },
   "outputs": [
    {
     "data": {
      "text/plain": [
       "count    2156.0\n",
       "mean        2.0\n",
       "std         0.0\n",
       "min         2.0\n",
       "25%         2.0\n",
       "50%         2.0\n",
       "75%         2.0\n",
       "max         2.0\n",
       "Name: text, dtype: float64"
      ]
     },
     "execution_count": 13,
     "metadata": {},
     "output_type": "execute_result"
    }
   ],
   "source": [
    "df['text'].apply(lambda x: x.count('\\n')).describe()"
   ]
  },
  {
   "cell_type": "code",
   "execution_count": 14,
   "metadata": {
    "colab": {
     "base_uri": "https://localhost:8080/"
    },
    "id": "2VeBx5XLoo7N",
    "outputId": "35531e4f-e4c2-42d4-a958-9ac7c47dab41"
   },
   "outputs": [
    {
     "name": "stdout",
     "output_type": "stream",
     "text": [
      "Пентагон незаконно шпионит за гражданами на территории США\n",
      "В Сенате уже высказывают опасения Пентагон вновь оказался в центре скандала. Издание New York Times сообщило, что ведомственная разведка уже несколько лет покупает базы данных с информацией о перемещениях американцев и иностранных граждан. По закону США, для получения этих сведений властям сначала нужно запрашивать ордер, чтобы на его основании требовать от телефонных операторов данные геолокации своих клиентов. Однако Пентагон нашёл лазейку, покупая аналогичную базу у посредников без решения суда. Авторы статьи предположили, что информация используется главным образом для расследований об иностранцах за границей. В Сенате такую практику назвали посягательством на права граждан, сообщает \"ТВ Центр\". Все самое интересное - в нашем канале \"Яндекс.Дзен\"\n",
      "https://www.tvc.ru/news/show/id/202339\n"
     ]
    }
   ],
   "source": [
    "print(df['text'].sample().item())"
   ]
  },
  {
   "cell_type": "code",
   "execution_count": 15,
   "metadata": {
    "colab": {
     "base_uri": "https://localhost:8080/"
    },
    "id": "4ILfmQASzHI7",
    "outputId": "a091d508-f91f-4275-b64b-5e6a8e4eb4a2"
   },
   "outputs": [
    {
     "data": {
      "text/plain": [
       "0    1265\n",
       "1     891\n",
       "Name: is_spam, dtype: int64"
      ]
     },
     "execution_count": 15,
     "metadata": {},
     "output_type": "execute_result"
    }
   ],
   "source": [
    "df['is_spam'] = df['label'].apply(lambda x: 1 if x == 'не по теме' else 0)\n",
    "df['is_spam'].value_counts()"
   ]
  },
  {
   "cell_type": "code",
   "execution_count": 16,
   "metadata": {
    "colab": {
     "base_uri": "https://localhost:8080/"
    },
    "id": "jD0hb8T7YniS",
    "outputId": "2c30c056-68f7-4a9f-9a89-54f0cbf221a9"
   },
   "outputs": [
    {
     "data": {
      "text/plain": [
       "((1724, 3), (432, 3))"
      ]
     },
     "execution_count": 16,
     "metadata": {},
     "output_type": "execute_result"
    }
   ],
   "source": [
    "# для быстроты обойдусь без валидационного сета\n",
    "train_df, test_df = sklearn.model_selection.train_test_split(df, test_size=0.2, random_state=23, shuffle=True, stratify=df['label'])\n",
    "assert set(train_df['label']) == set(test_df['label'])\n",
    "train_df.shape, test_df.shape"
   ]
  },
  {
   "cell_type": "code",
   "execution_count": 17,
   "metadata": {
    "id": "jWdZa-7ZopFU"
   },
   "outputs": [],
   "source": [
    "def custom_bag_of_words(text):\n",
    "    \"\"\"\n",
    "    пытаюст услилить полезный сигнал, убрать шумы, сделать пригодным для подачи в модель эмбеддингов\n",
    "    \"\"\"\n",
    "    \n",
    "    splitted = text.split('\\n')\n",
    "    assert len(splitted) == 3\n",
    "    (title, body, link) = splitted\n",
    "\n",
    "    max_title_chars = 150\n",
    "    max_body_chars = 150 * 7\n",
    "    title = ' '.join([x for x in title[:max_title_chars].split(' ')][:-1])\n",
    "    body = ' '.join([x for x in body[:max_body_chars].split(' ')][:-1])\n",
    "\n",
    "    russian_stopwords = nltk.corpus.stopwords.words('russian')\n",
    "    wanted_pos = [\n",
    "        'NOUN',  # \tимя существительное\n",
    "        'ADJF',  # \tимя прилагательное (полное)\n",
    "        'VERB',  # \tглагол (личная форма)\n",
    "        'INFN',  # \tглагол (инфинитив)\n",
    "    ]\n",
    "    \n",
    "    tokenized_title = [x.text for x in razdel.tokenize(title)]\n",
    "    tokenized_title = [morph.parse(x)[0].normal_form for x in tokenized_title if morph.parse(x)[0].tag.POS in wanted_pos]\n",
    "    tokenized_title = [x for x in tokenized_title if x not in russian_stopwords]\n",
    "    \n",
    "    tokenized_body = [x.text for x in razdel.tokenize(body)]\n",
    "    tokenized_body = [morph.parse(x)[0].normal_form for x in tokenized_body if morph.parse(x)[0].tag.POS in wanted_pos]\n",
    "    tokenized_body = [x for x in tokenized_body if x not in russian_stopwords]\n",
    "\n",
    "    title_stronger_signal_coeff = 2\n",
    "    bag_of_words = title_stronger_signal_coeff * tokenized_title + tokenized_body\n",
    "    return ' '.join(bag_of_words)"
   ]
  },
  {
   "cell_type": "code",
   "execution_count": 18,
   "metadata": {
    "colab": {
     "base_uri": "https://localhost:8080/",
     "height": 81,
     "referenced_widgets": [
      "ff757bae623b4fed8225b3998983d6c3",
      "4b86c918423b4fb1be184c8222a9ba4e",
      "abe987d73d3549d797294ae3416dbbf2",
      "3bea0e8a4aa042329082c0bee6da1f21",
      "feb39219674b4849a25eb9e9fcd8dc6c",
      "c4b54d6ebb414bf5a4c073f31c1681a6",
      "8e352bde8a2249c68e198e9367c87638",
      "353ba52d10704a38b80fa71660d8b035",
      "00b21f79e97c4e2e88747eaae60e8774",
      "be0eaec0c5d5432a9085fc08954b4a0e",
      "01a1e5a4c8e042b3873042b9c352dba2",
      "f88fc6fb558f46e1bdcf6706283021c2",
      "b1dc429d40634ab1b081ce9895cd7da9",
      "4206f61da93841a99743a848d99d187b",
      "0e1d0391584341bfa0119948c6f1ff18",
      "57a05a1afec042e7992da48704acb866",
      "19c470c565b943caa51ffd85f4378b02",
      "c1686e8f9e3b4a2e8ad4a4151cd33a2a",
      "601c376ffc294d9f90b72b8f963cb370",
      "94a08a958bd24073980d5b116ae8d20d",
      "a60d10812d234432bc9dfbe8be6a5f00",
      "79e6d97ce186487387ef02c9a7eb6bf8"
     ]
    },
    "id": "nstW1g5ITktw",
    "outputId": "5274b561-d7de-47d8-8dca-13759c712b03"
   },
   "outputs": [
    {
     "data": {
      "application/vnd.jupyter.widget-view+json": {
       "model_id": "e57623ec3d374bc1b709a271ca1b6a45",
       "version_major": 2,
       "version_minor": 0
      },
      "text/plain": [
       "  0%|          | 0/1724 [00:00<?, ?it/s]"
      ]
     },
     "metadata": {},
     "output_type": "display_data"
    },
    {
     "name": "stderr",
     "output_type": "stream",
     "text": [
      "<ipython-input-18-9d510ab4f8e4>:1: SettingWithCopyWarning: \n",
      "A value is trying to be set on a copy of a slice from a DataFrame.\n",
      "Try using .loc[row_indexer,col_indexer] = value instead\n",
      "\n",
      "See the caveats in the documentation: https://pandas.pydata.org/pandas-docs/stable/user_guide/indexing.html#returning-a-view-versus-a-copy\n",
      "  train_df['bag_of_words'] = train_df['text'].progress_apply(custom_bag_of_words)\n"
     ]
    },
    {
     "data": {
      "application/vnd.jupyter.widget-view+json": {
       "model_id": "2d0f51b2562d43b881bc5f1f3975b79e",
       "version_major": 2,
       "version_minor": 0
      },
      "text/plain": [
       "  0%|          | 0/432 [00:00<?, ?it/s]"
      ]
     },
     "metadata": {},
     "output_type": "display_data"
    },
    {
     "name": "stderr",
     "output_type": "stream",
     "text": [
      "<ipython-input-18-9d510ab4f8e4>:2: SettingWithCopyWarning: \n",
      "A value is trying to be set on a copy of a slice from a DataFrame.\n",
      "Try using .loc[row_indexer,col_indexer] = value instead\n",
      "\n",
      "See the caveats in the documentation: https://pandas.pydata.org/pandas-docs/stable/user_guide/indexing.html#returning-a-view-versus-a-copy\n",
      "  test_df['bag_of_words'] = test_df['text'].progress_apply(custom_bag_of_words)\n"
     ]
    }
   ],
   "source": [
    "train_df['bag_of_words'] = train_df['text'].progress_apply(custom_bag_of_words)\n",
    "test_df['bag_of_words'] = test_df['text'].progress_apply(custom_bag_of_words)"
   ]
  },
  {
   "cell_type": "code",
   "execution_count": 19,
   "metadata": {
    "colab": {
     "base_uri": "https://localhost:8080/"
    },
    "id": "82Oyil8rbink",
    "outputId": "709ec57f-ec32-4f5a-e859-d4b0c3121ed2"
   },
   "outputs": [
    {
     "data": {
      "text/plain": [
       "count    1724.000000\n",
       "mean      813.662993\n",
       "std       125.325010\n",
       "min       257.000000\n",
       "25%       761.000000\n",
       "50%       839.000000\n",
       "75%       899.000000\n",
       "max      1068.000000\n",
       "Name: bag_of_words, dtype: float64"
      ]
     },
     "execution_count": 19,
     "metadata": {},
     "output_type": "execute_result"
    }
   ],
   "source": [
    "train_df['bag_of_words'].apply(len).describe()"
   ]
  },
  {
   "cell_type": "code",
   "execution_count": null,
   "metadata": {
    "id": "L2yeimRJblcx"
   },
   "outputs": [],
   "source": [
    "! wget http://vectors.nlpl.eu/repository/20/187.zip"
   ]
  },
  {
   "cell_type": "code",
   "execution_count": null,
   "metadata": {
    "id": "3d5oB4Wcblgs"
   },
   "outputs": [],
   "source": [
    "with zipfile.ZipFile('187.zip', 'r') as zip_ref:\n",
    "    zip_ref.extractall('w2v_model/')"
   ]
  },
  {
   "cell_type": "code",
   "execution_count": 22,
   "metadata": {
    "id": "FyN_ae7ycsIQ"
   },
   "outputs": [],
   "source": [
    "word2vec_model = gensim.models.KeyedVectors.load('187/model.model')\n",
    "#word2vec_model.init_sims(replace=True)  # на случай cos-sim"
   ]
  },
  {
   "cell_type": "code",
   "execution_count": 23,
   "metadata": {
    "id": "2WmjvmRAf2uT"
   },
   "outputs": [],
   "source": [
    "def l2_norm(x):\n",
    "   return np.sqrt(np.sum(x**2))\n",
    "\n",
    "def div_norm(x):\n",
    "   norm_value = l2_norm(x)\n",
    "   if norm_value > 0:\n",
    "       return x * ( 1.0 / norm_value)\n",
    "   else:\n",
    "       return x\n",
    "\n",
    "def emb_single(word, model):\n",
    "    if word == '':\n",
    "        return np.zeros(model.vector_size)\n",
    "    return model.get_vector(word)\n",
    "\n",
    "def emb(bag_of_words, model):\n",
    "    words = bag_of_words.split(' ')\n",
    "    embds = [emb_single(word=x, model=model) for x in words]\n",
    "    normed = [div_norm(x) for x in embds]\n",
    "    avg = np.mean(np.array(normed), axis=0)\n",
    "    return avg"
   ]
  },
  {
   "cell_type": "markdown",
   "metadata": {
    "id": "z3e96BWv0mPc"
   },
   "source": [
    "## Спам / не спам"
   ]
  },
  {
   "cell_type": "code",
   "execution_count": 24,
   "metadata": {
    "colab": {
     "base_uri": "https://localhost:8080/",
     "height": 81,
     "referenced_widgets": [
      "6b2b59647c2644428a6331504544b9e2",
      "861ab5f35f164623b5b7d16f8134e924",
      "7af0af6e7b804eb4b48c22552f97562c",
      "4def493acd5c47c59aeb38c357e03dbf",
      "c32d5e5a6da14474b2955a26517b2610",
      "5325e7e863d142bf8cdf2101a1b5f6d0",
      "294cccdc535e4707981b2895b5bdd385",
      "bb89e811bb0e4f8e9ac18f969176a05a",
      "a35d034dd74a4c1186b3f6d27df65806",
      "63107f0d36c14257bdfab0a6e12079eb",
      "4435c80d3f5947f38c4c361b9edd4d92",
      "c26a15527d7845b68447ed9b6361ebc1",
      "d6662c57e3744d1b93f9983d4b0987d2",
      "296bd13579b04bdca95711bff53caa6e",
      "02f468773b3444a783f5822d0c5b6788",
      "b6556dca7ba84b79b68f5ad42df30fda",
      "db785aaf47844089bc9d184e39523b33",
      "c6148236985441deb46611c0a49d75f2",
      "ec0b390d5961444ba64ae8abc50bb713",
      "4660eb20f0c84247a34ea65cd63aadd7",
      "7f8afa431fae498db7c8a94b06798687",
      "632cd998edaf4287bddb13c5c215d3f8"
     ]
    },
    "id": "V1YS9umTjdNN",
    "outputId": "002496d1-4e64-4a47-954c-c3a73600b220"
   },
   "outputs": [
    {
     "data": {
      "application/vnd.jupyter.widget-view+json": {
       "model_id": "5741f38774434c75ac2f49063a1df387",
       "version_major": 2,
       "version_minor": 0
      },
      "text/plain": [
       "  0%|          | 0/1724 [00:00<?, ?it/s]"
      ]
     },
     "metadata": {},
     "output_type": "display_data"
    },
    {
     "data": {
      "application/vnd.jupyter.widget-view+json": {
       "model_id": "f69bfef333724338baced90ef2b46de9",
       "version_major": 2,
       "version_minor": 0
      },
      "text/plain": [
       "  0%|          | 0/432 [00:00<?, ?it/s]"
      ]
     },
     "metadata": {},
     "output_type": "display_data"
    }
   ],
   "source": [
    "X_train_spam = train_df['bag_of_words'].progress_apply(lambda x: emb(bag_of_words=x, model=word2vec_model))\n",
    "X_train_spam = np.array(X_train_spam.values.tolist())\n",
    "assert X_train_spam.shape == (len(train_df), word2vec_model.vector_size)\n",
    "\n",
    "y_train_spam = train_df['is_spam'].values\n",
    "\n",
    "#####\n",
    "\n",
    "\n",
    "X_test_spam= test_df['bag_of_words'].progress_apply(lambda x: emb(bag_of_words=x, model=word2vec_model))\n",
    "X_test_spam = np.array(X_test_spam.values.tolist())\n",
    "assert X_test_spam.shape == (len(test_df), word2vec_model.vector_size)\n",
    "\n",
    "y_test_spam = test_df['is_spam'].values"
   ]
  },
  {
   "cell_type": "code",
   "execution_count": 25,
   "metadata": {
    "colab": {
     "base_uri": "https://localhost:8080/"
    },
    "id": "7CNGAiq-1Gaf",
    "outputId": "9f64ba09-2c37-4aaf-b760-f64fe70717e8"
   },
   "outputs": [
    {
     "name": "stdout",
     "output_type": "stream",
     "text": [
      "              precision    recall  f1-score   support\n",
      "\n",
      "    not spam       0.85      0.85      0.85       253\n",
      "        spam       0.78      0.79      0.79       179\n",
      "\n",
      "    accuracy                           0.82       432\n",
      "   macro avg       0.82      0.82      0.82       432\n",
      "weighted avg       0.82      0.82      0.82       432\n",
      "\n",
      "F1 score: 0.7855153203342619\n"
     ]
    }
   ],
   "source": [
    "clf_is_spam = sklearn.linear_model.LogisticRegression(\n",
    "    class_weight='balanced',\n",
    "    random_state=23,\n",
    ")\n",
    "\n",
    "clf_is_spam.fit(X_train_spam, y_train_spam)\n",
    "\n",
    "y_pred_spam = clf_is_spam.predict(X_test_spam)\n",
    "\n",
    "print(sklearn.metrics.classification_report(y_true=y_test_spam, y_pred=y_pred_spam, target_names=['not spam', 'spam']))\n",
    "print('F1 score:', sklearn.metrics.f1_score(y_true=y_test_spam, y_pred=y_pred_spam))"
   ]
  },
  {
   "cell_type": "code",
   "execution_count": 26,
   "metadata": {
    "id": "V2LaWX6MDumN"
   },
   "outputs": [
    {
     "name": "stderr",
     "output_type": "stream",
     "text": [
      "<ipython-input-26-b6dcc6ff46a4>:1: SettingWithCopyWarning: \n",
      "A value is trying to be set on a copy of a slice from a DataFrame.\n",
      "Try using .loc[row_indexer,col_indexer] = value instead\n",
      "\n",
      "See the caveats in the documentation: https://pandas.pydata.org/pandas-docs/stable/user_guide/indexing.html#returning-a-view-versus-a-copy\n",
      "  test_df['pred_is_spam'] = y_pred_spam\n"
     ]
    }
   ],
   "source": [
    "test_df['pred_is_spam'] = y_pred_spam"
   ]
  },
  {
   "cell_type": "markdown",
   "metadata": {
    "id": "lH4ajIhT2smY"
   },
   "source": [
    "## Далее уже классификатор по темам"
   ]
  },
  {
   "cell_type": "code",
   "execution_count": 27,
   "metadata": {
    "colab": {
     "base_uri": "https://localhost:8080/"
    },
    "id": "_wWgtKug1ezu",
    "outputId": "041e2a00-f6cc-4eaa-f8ba-2ec4e951e4ea"
   },
   "outputs": [
    {
     "data": {
      "text/plain": [
       "(1012, 252)"
      ]
     },
     "execution_count": 27,
     "metadata": {},
     "output_type": "execute_result"
    }
   ],
   "source": [
    "notspam_train_df = train_df[train_df['is_spam'] != 1]\n",
    "notspam_test_df = test_df[test_df['pred_is_spam'] != 1]  # тут мы внесем ошибки, но мы согласны такой пайплайн. в метрике отдельно будем считать пропагейт ошибок\n",
    "\n",
    "len(notspam_train_df), len(notspam_test_df)"
   ]
  },
  {
   "cell_type": "code",
   "execution_count": 29,
   "metadata": {
    "id": "9lXX0TCXFMep"
   },
   "outputs": [],
   "source": [
    "notspam_test_df = notspam_test_df[notspam_test_df['label'] != 'не по теме']  # не совсем честно, но в метркие можно учесть"
   ]
  },
  {
   "cell_type": "code",
   "execution_count": 30,
   "metadata": {
    "colab": {
     "base_uri": "https://localhost:8080/"
    },
    "id": "9rkiAShmE8iI",
    "outputId": "c3f59d63-ecec-4380-abbc-9eb3468b6ccf"
   },
   "outputs": [
    {
     "data": {
      "text/plain": [
       "True"
      ]
     },
     "execution_count": 30,
     "metadata": {},
     "output_type": "execute_result"
    }
   ],
   "source": [
    "set(notspam_train_df['label'].unique()) == set(notspam_test_df['label'].unique())"
   ]
  },
  {
   "cell_type": "code",
   "execution_count": 31,
   "metadata": {
    "colab": {
     "base_uri": "https://localhost:8080/"
    },
    "id": "EYnfZbjUA3oB",
    "outputId": "0ff1cb6d-549d-4fec-f34f-b4db79d18d63"
   },
   "outputs": [
    {
     "name": "stdout",
     "output_type": "stream",
     "text": [
      "['COVID-19' 'Международные отношения' 'Россия' 'Социологические опросы'\n",
      " 'аналитика' 'военная тематика' 'инвестиция' 'меры поддержки' 'мнения'\n",
      " 'политика' 'проекты' 'торговля']\n"
     ]
    },
    {
     "name": "stderr",
     "output_type": "stream",
     "text": [
      "<ipython-input-31-de34eba12ae7>:6: SettingWithCopyWarning: \n",
      "A value is trying to be set on a copy of a slice from a DataFrame.\n",
      "Try using .loc[row_indexer,col_indexer] = value instead\n",
      "\n",
      "See the caveats in the documentation: https://pandas.pydata.org/pandas-docs/stable/user_guide/indexing.html#returning-a-view-versus-a-copy\n",
      "  notspam_train_df['target'] = label_encoder.transform(notspam_train_df['label'])\n"
     ]
    }
   ],
   "source": [
    "label_encoder = sklearn.preprocessing.LabelEncoder()\n",
    "# сделаю на всех данных, чтобы не прошляпить класс \"не по теме\", потому что из обучения выкину\n",
    "label_encoder.fit(notspam_train_df['label'])\n",
    "print(label_encoder.classes_)\n",
    "\n",
    "notspam_train_df['target'] = label_encoder.transform(notspam_train_df['label'])\n",
    "notspam_test_df['target'] = label_encoder.transform(notspam_test_df['label'])"
   ]
  },
  {
   "cell_type": "code",
   "execution_count": 32,
   "metadata": {
    "colab": {
     "base_uri": "https://localhost:8080/",
     "height": 81,
     "referenced_widgets": [
      "bd94bbef36bd4f9fbd934684733b910c",
      "8fb7dedb9b674a5084282e32a9b71222",
      "6c7cbd497427410eabde2b55450f7be5",
      "dc477c7c404f4c92b2a41bfcd8678759",
      "bb01783bf9834e21958673e1588c80c0",
      "5b1aacafa9d64f3eb64906ca00e5a6ad",
      "8b34091765434f9fae3c0a704c3d5008",
      "7a08354285f046758288f8b66afb6af6",
      "c5cb7abd48ad499892f1fcf5f06032ec",
      "1b9a4fe08d984d71a36c7af663bb2a76",
      "c0e31ab54c5e439c99cdef881a1b4ac7",
      "d04141cafe1446e1bba97971de2fa0e6",
      "eaeaad61a38d4895a8b47aa4de45bd28",
      "ec4bc043e6ec40719d6efdb7183cf3e6",
      "3f8aefc111804fe6bc2283f9f4878b3e",
      "773523b7900e4db7823fd2890ad8b3ce",
      "5cdc0f27abab45e88a8b2feb5939e1b5",
      "332599055e7e45cfb96c1f75b86ef563",
      "0024d8e3826e4746a9ba2f9dddd36d95",
      "3aa315e84c914024b174d7a7727536d9",
      "22934b6ae4de4d5b8238c628e1f40edb",
      "8e10c47b305f4a11997a66b3a74f7b83"
     ]
    },
    "id": "RI-neH6A3aQq",
    "outputId": "b6f64904-5b07-484f-9e77-ccd04ee4eac8"
   },
   "outputs": [
    {
     "data": {
      "application/vnd.jupyter.widget-view+json": {
       "model_id": "4478b168b5214bac979b5c1ce7d2d746",
       "version_major": 2,
       "version_minor": 0
      },
      "text/plain": [
       "  0%|          | 0/1012 [00:00<?, ?it/s]"
      ]
     },
     "metadata": {},
     "output_type": "display_data"
    },
    {
     "data": {
      "application/vnd.jupyter.widget-view+json": {
       "model_id": "b82dd07ed28a4fe6b7422a996cd0cd8e",
       "version_major": 2,
       "version_minor": 0
      },
      "text/plain": [
       "  0%|          | 0/214 [00:00<?, ?it/s]"
      ]
     },
     "metadata": {},
     "output_type": "display_data"
    }
   ],
   "source": [
    "X_train = notspam_train_df['bag_of_words'].progress_apply(lambda x: emb(bag_of_words=x, model=word2vec_model))\n",
    "X_train = np.array(X_train.values.tolist())\n",
    "assert X_train.shape == (len(notspam_train_df), word2vec_model.vector_size)\n",
    "\n",
    "y_train = notspam_train_df['target'].values\n",
    "\n",
    "\n",
    "#####\n",
    "\n",
    "X_test = notspam_test_df['bag_of_words'].progress_apply(lambda x: emb(bag_of_words=x, model=word2vec_model))\n",
    "X_test = np.array(X_test.values.tolist())\n",
    "assert X_test.shape == (len(notspam_test_df), word2vec_model.vector_size)\n",
    "\n",
    "y_test = notspam_test_df['target'].values"
   ]
  },
  {
   "cell_type": "code",
   "execution_count": 34,
   "metadata": {
    "colab": {
     "base_uri": "https://localhost:8080/"
    },
    "id": "_u6fx58S1Rqu",
    "outputId": "9e2587fb-4f2d-43d3-d20b-af6ce7cacd33"
   },
   "outputs": [
    {
     "data": {
      "text/plain": [
       "LogisticRegression(class_weight='balanced', multi_class='multinomial',\n",
       "                   random_state=23)"
      ]
     },
     "execution_count": 34,
     "metadata": {},
     "output_type": "execute_result"
    }
   ],
   "source": [
    "clf = sklearn.linear_model.LogisticRegression(\n",
    "    class_weight='balanced',\n",
    "    random_state=23,\n",
    "    multi_class='multinomial',\n",
    ")\n",
    "\n",
    "clf.fit(X_train, y_train)"
   ]
  },
  {
   "cell_type": "code",
   "execution_count": 35,
   "metadata": {
    "id": "BwvmSFct1Gc-"
   },
   "outputs": [],
   "source": [
    "y_pred = clf.predict(X_test)  # predict_proba\n",
    "#assert y_pred.shape == (len(X_test), len(label_encoder.classes_)) # if predict_proba"
   ]
  },
  {
   "cell_type": "code",
   "execution_count": 36,
   "metadata": {
    "colab": {
     "base_uri": "https://localhost:8080/"
    },
    "id": "wEk53ysB1Gff",
    "outputId": "91300fe5-36b7-41c1-cb19-d99064c068f8"
   },
   "outputs": [
    {
     "data": {
      "text/plain": [
       "0.5186915887850467"
      ]
     },
     "execution_count": 36,
     "metadata": {},
     "output_type": "execute_result"
    }
   ],
   "source": [
    "sklearn.metrics.f1_score(y_true=y_test, y_pred=y_pred, average='micro')#"
   ]
  },
  {
   "cell_type": "code",
   "execution_count": 37,
   "metadata": {
    "colab": {
     "base_uri": "https://localhost:8080/"
    },
    "id": "9oL05h7smz8H",
    "outputId": "7836e25f-8775-48bd-8a88-7107701264d9"
   },
   "outputs": [
    {
     "name": "stdout",
     "output_type": "stream",
     "text": [
      "              precision    recall  f1-score   support\n",
      "\n",
      "           0       0.91      0.72      0.81        40\n",
      "           1       1.00      0.03      0.06        33\n",
      "           2       0.00      0.00      0.00         1\n",
      "           3       0.00      0.00      0.00         1\n",
      "           4       0.45      0.29      0.36        17\n",
      "           5       0.64      0.84      0.73        19\n",
      "           6       0.10      0.50      0.17         2\n",
      "           7       0.25      0.50      0.33         4\n",
      "           8       0.33      0.15      0.21        20\n",
      "           9       0.64      0.72      0.68        67\n",
      "          10       0.20      1.00      0.33         1\n",
      "          11       0.50      0.56      0.53         9\n",
      "\n",
      "    accuracy                           0.52       214\n",
      "   macro avg       0.42      0.44      0.35       214\n",
      "weighted avg       0.68      0.52      0.52       214\n",
      "\n"
     ]
    }
   ],
   "source": [
    "print(sklearn.metrics.classification_report(y_true=y_test.tolist(), y_pred=y_pred))#, target_names=label_encoder.classes_))"
   ]
  },
  {
   "cell_type": "code",
   "execution_count": null,
   "metadata": {
    "id": "vqszkKrHIUvg"
   },
   "outputs": [],
   "source": [
    "#         precision    recall  f1-score   support\n",
    "\n",
    "#            0       0.00      0.00      0.00        50\n",
    "#            1       0.00      0.00      0.00        36\n",
    "#            2       0.00      0.00      0.00         2\n",
    "#            3       0.00      0.00      0.00         1\n",
    "#            4       0.00      0.00      0.00        20\n",
    "#            5       0.00      0.00      0.00        22\n",
    "#            6       0.00      0.00      0.00         2\n",
    "#            7       0.00      0.00      0.00         6\n",
    "#            8       0.00      0.00      0.00        26\n",
    "#            9       0.41      1.00      0.59       179\n",
    "#           10       0.00      0.00      0.00        72\n",
    "#           11       0.00      0.00      0.00         2\n",
    "#           12       0.00      0.00      0.00        14\n",
    "\n",
    "#     accuracy                           0.41       432\n",
    "#    macro avg       0.03      0.08      0.05       432\n",
    "# weighted avg       0.17      0.41      0.24       432\n",
    "#\n",
    "# Без разделения на спам/не-спам было много нулей в этой конфьюжн-матрице, кроме строки класса \"не по теме\"\n",
    "# Видимо в этом была проблема.\n",
    "# Сейчас её нет, но теперр проблема что нечестно в одном месте опирались на не-спам в тесте, хотя дальше работали с той частью которую сами запредиктили.\n",
    "# По-хорошему надо по-другом узамерить пропагейт ошибки с первой модели."
   ]
  },
  {
   "cell_type": "code",
   "execution_count": null,
   "metadata": {},
   "outputs": [],
   "source": []
  }
 ],
 "metadata": {
  "colab": {
   "provenance": []
  },
  "kernelspec": {
   "display_name": "Python 3",
   "language": "python",
   "name": "python3"
  },
  "language_info": {
   "codemirror_mode": {
    "name": "ipython",
    "version": 3
   },
   "file_extension": ".py",
   "mimetype": "text/x-python",
   "name": "python",
   "nbconvert_exporter": "python",
   "pygments_lexer": "ipython3",
   "version": "3.8.8"
  },
  "widgets": {
   "application/vnd.jupyter.widget-state+json": {
    "0024d8e3826e4746a9ba2f9dddd36d95": {
     "model_module": "@jupyter-widgets/base",
     "model_module_version": "1.2.0",
     "model_name": "LayoutModel",
     "state": {
      "_model_module": "@jupyter-widgets/base",
      "_model_module_version": "1.2.0",
      "_model_name": "LayoutModel",
      "_view_count": null,
      "_view_module": "@jupyter-widgets/base",
      "_view_module_version": "1.2.0",
      "_view_name": "LayoutView",
      "align_content": null,
      "align_items": null,
      "align_self": null,
      "border": null,
      "bottom": null,
      "display": null,
      "flex": null,
      "flex_flow": null,
      "grid_area": null,
      "grid_auto_columns": null,
      "grid_auto_flow": null,
      "grid_auto_rows": null,
      "grid_column": null,
      "grid_gap": null,
      "grid_row": null,
      "grid_template_areas": null,
      "grid_template_columns": null,
      "grid_template_rows": null,
      "height": null,
      "justify_content": null,
      "justify_items": null,
      "left": null,
      "margin": null,
      "max_height": null,
      "max_width": null,
      "min_height": null,
      "min_width": null,
      "object_fit": null,
      "object_position": null,
      "order": null,
      "overflow": null,
      "overflow_x": null,
      "overflow_y": null,
      "padding": null,
      "right": null,
      "top": null,
      "visibility": null,
      "width": null
     }
    },
    "00b21f79e97c4e2e88747eaae60e8774": {
     "model_module": "@jupyter-widgets/controls",
     "model_module_version": "1.5.0",
     "model_name": "ProgressStyleModel",
     "state": {
      "_model_module": "@jupyter-widgets/controls",
      "_model_module_version": "1.5.0",
      "_model_name": "ProgressStyleModel",
      "_view_count": null,
      "_view_module": "@jupyter-widgets/base",
      "_view_module_version": "1.2.0",
      "_view_name": "StyleView",
      "bar_color": null,
      "description_width": ""
     }
    },
    "01a1e5a4c8e042b3873042b9c352dba2": {
     "model_module": "@jupyter-widgets/controls",
     "model_module_version": "1.5.0",
     "model_name": "DescriptionStyleModel",
     "state": {
      "_model_module": "@jupyter-widgets/controls",
      "_model_module_version": "1.5.0",
      "_model_name": "DescriptionStyleModel",
      "_view_count": null,
      "_view_module": "@jupyter-widgets/base",
      "_view_module_version": "1.2.0",
      "_view_name": "StyleView",
      "description_width": ""
     }
    },
    "02f468773b3444a783f5822d0c5b6788": {
     "model_module": "@jupyter-widgets/controls",
     "model_module_version": "1.5.0",
     "model_name": "HTMLModel",
     "state": {
      "_dom_classes": [],
      "_model_module": "@jupyter-widgets/controls",
      "_model_module_version": "1.5.0",
      "_model_name": "HTMLModel",
      "_view_count": null,
      "_view_module": "@jupyter-widgets/controls",
      "_view_module_version": "1.5.0",
      "_view_name": "HTMLView",
      "description": "",
      "description_tooltip": null,
      "layout": "IPY_MODEL_7f8afa431fae498db7c8a94b06798687",
      "placeholder": "​",
      "style": "IPY_MODEL_632cd998edaf4287bddb13c5c215d3f8",
      "value": " 432/432 [00:01&lt;00:00, 372.48it/s]"
     }
    },
    "0e1d0391584341bfa0119948c6f1ff18": {
     "model_module": "@jupyter-widgets/controls",
     "model_module_version": "1.5.0",
     "model_name": "HTMLModel",
     "state": {
      "_dom_classes": [],
      "_model_module": "@jupyter-widgets/controls",
      "_model_module_version": "1.5.0",
      "_model_name": "HTMLModel",
      "_view_count": null,
      "_view_module": "@jupyter-widgets/controls",
      "_view_module_version": "1.5.0",
      "_view_name": "HTMLView",
      "description": "",
      "description_tooltip": null,
      "layout": "IPY_MODEL_a60d10812d234432bc9dfbe8be6a5f00",
      "placeholder": "​",
      "style": "IPY_MODEL_79e6d97ce186487387ef02c9a7eb6bf8",
      "value": " 432/432 [00:29&lt;00:00, 15.07it/s]"
     }
    },
    "19c470c565b943caa51ffd85f4378b02": {
     "model_module": "@jupyter-widgets/base",
     "model_module_version": "1.2.0",
     "model_name": "LayoutModel",
     "state": {
      "_model_module": "@jupyter-widgets/base",
      "_model_module_version": "1.2.0",
      "_model_name": "LayoutModel",
      "_view_count": null,
      "_view_module": "@jupyter-widgets/base",
      "_view_module_version": "1.2.0",
      "_view_name": "LayoutView",
      "align_content": null,
      "align_items": null,
      "align_self": null,
      "border": null,
      "bottom": null,
      "display": null,
      "flex": null,
      "flex_flow": null,
      "grid_area": null,
      "grid_auto_columns": null,
      "grid_auto_flow": null,
      "grid_auto_rows": null,
      "grid_column": null,
      "grid_gap": null,
      "grid_row": null,
      "grid_template_areas": null,
      "grid_template_columns": null,
      "grid_template_rows": null,
      "height": null,
      "justify_content": null,
      "justify_items": null,
      "left": null,
      "margin": null,
      "max_height": null,
      "max_width": null,
      "min_height": null,
      "min_width": null,
      "object_fit": null,
      "object_position": null,
      "order": null,
      "overflow": null,
      "overflow_x": null,
      "overflow_y": null,
      "padding": null,
      "right": null,
      "top": null,
      "visibility": null,
      "width": null
     }
    },
    "1b9a4fe08d984d71a36c7af663bb2a76": {
     "model_module": "@jupyter-widgets/base",
     "model_module_version": "1.2.0",
     "model_name": "LayoutModel",
     "state": {
      "_model_module": "@jupyter-widgets/base",
      "_model_module_version": "1.2.0",
      "_model_name": "LayoutModel",
      "_view_count": null,
      "_view_module": "@jupyter-widgets/base",
      "_view_module_version": "1.2.0",
      "_view_name": "LayoutView",
      "align_content": null,
      "align_items": null,
      "align_self": null,
      "border": null,
      "bottom": null,
      "display": null,
      "flex": null,
      "flex_flow": null,
      "grid_area": null,
      "grid_auto_columns": null,
      "grid_auto_flow": null,
      "grid_auto_rows": null,
      "grid_column": null,
      "grid_gap": null,
      "grid_row": null,
      "grid_template_areas": null,
      "grid_template_columns": null,
      "grid_template_rows": null,
      "height": null,
      "justify_content": null,
      "justify_items": null,
      "left": null,
      "margin": null,
      "max_height": null,
      "max_width": null,
      "min_height": null,
      "min_width": null,
      "object_fit": null,
      "object_position": null,
      "order": null,
      "overflow": null,
      "overflow_x": null,
      "overflow_y": null,
      "padding": null,
      "right": null,
      "top": null,
      "visibility": null,
      "width": null
     }
    },
    "22934b6ae4de4d5b8238c628e1f40edb": {
     "model_module": "@jupyter-widgets/base",
     "model_module_version": "1.2.0",
     "model_name": "LayoutModel",
     "state": {
      "_model_module": "@jupyter-widgets/base",
      "_model_module_version": "1.2.0",
      "_model_name": "LayoutModel",
      "_view_count": null,
      "_view_module": "@jupyter-widgets/base",
      "_view_module_version": "1.2.0",
      "_view_name": "LayoutView",
      "align_content": null,
      "align_items": null,
      "align_self": null,
      "border": null,
      "bottom": null,
      "display": null,
      "flex": null,
      "flex_flow": null,
      "grid_area": null,
      "grid_auto_columns": null,
      "grid_auto_flow": null,
      "grid_auto_rows": null,
      "grid_column": null,
      "grid_gap": null,
      "grid_row": null,
      "grid_template_areas": null,
      "grid_template_columns": null,
      "grid_template_rows": null,
      "height": null,
      "justify_content": null,
      "justify_items": null,
      "left": null,
      "margin": null,
      "max_height": null,
      "max_width": null,
      "min_height": null,
      "min_width": null,
      "object_fit": null,
      "object_position": null,
      "order": null,
      "overflow": null,
      "overflow_x": null,
      "overflow_y": null,
      "padding": null,
      "right": null,
      "top": null,
      "visibility": null,
      "width": null
     }
    },
    "294cccdc535e4707981b2895b5bdd385": {
     "model_module": "@jupyter-widgets/controls",
     "model_module_version": "1.5.0",
     "model_name": "DescriptionStyleModel",
     "state": {
      "_model_module": "@jupyter-widgets/controls",
      "_model_module_version": "1.5.0",
      "_model_name": "DescriptionStyleModel",
      "_view_count": null,
      "_view_module": "@jupyter-widgets/base",
      "_view_module_version": "1.2.0",
      "_view_name": "StyleView",
      "description_width": ""
     }
    },
    "296bd13579b04bdca95711bff53caa6e": {
     "model_module": "@jupyter-widgets/controls",
     "model_module_version": "1.5.0",
     "model_name": "FloatProgressModel",
     "state": {
      "_dom_classes": [],
      "_model_module": "@jupyter-widgets/controls",
      "_model_module_version": "1.5.0",
      "_model_name": "FloatProgressModel",
      "_view_count": null,
      "_view_module": "@jupyter-widgets/controls",
      "_view_module_version": "1.5.0",
      "_view_name": "ProgressView",
      "bar_style": "success",
      "description": "",
      "description_tooltip": null,
      "layout": "IPY_MODEL_ec0b390d5961444ba64ae8abc50bb713",
      "max": 432,
      "min": 0,
      "orientation": "horizontal",
      "style": "IPY_MODEL_4660eb20f0c84247a34ea65cd63aadd7",
      "value": 432
     }
    },
    "332599055e7e45cfb96c1f75b86ef563": {
     "model_module": "@jupyter-widgets/controls",
     "model_module_version": "1.5.0",
     "model_name": "DescriptionStyleModel",
     "state": {
      "_model_module": "@jupyter-widgets/controls",
      "_model_module_version": "1.5.0",
      "_model_name": "DescriptionStyleModel",
      "_view_count": null,
      "_view_module": "@jupyter-widgets/base",
      "_view_module_version": "1.2.0",
      "_view_name": "StyleView",
      "description_width": ""
     }
    },
    "353ba52d10704a38b80fa71660d8b035": {
     "model_module": "@jupyter-widgets/base",
     "model_module_version": "1.2.0",
     "model_name": "LayoutModel",
     "state": {
      "_model_module": "@jupyter-widgets/base",
      "_model_module_version": "1.2.0",
      "_model_name": "LayoutModel",
      "_view_count": null,
      "_view_module": "@jupyter-widgets/base",
      "_view_module_version": "1.2.0",
      "_view_name": "LayoutView",
      "align_content": null,
      "align_items": null,
      "align_self": null,
      "border": null,
      "bottom": null,
      "display": null,
      "flex": null,
      "flex_flow": null,
      "grid_area": null,
      "grid_auto_columns": null,
      "grid_auto_flow": null,
      "grid_auto_rows": null,
      "grid_column": null,
      "grid_gap": null,
      "grid_row": null,
      "grid_template_areas": null,
      "grid_template_columns": null,
      "grid_template_rows": null,
      "height": null,
      "justify_content": null,
      "justify_items": null,
      "left": null,
      "margin": null,
      "max_height": null,
      "max_width": null,
      "min_height": null,
      "min_width": null,
      "object_fit": null,
      "object_position": null,
      "order": null,
      "overflow": null,
      "overflow_x": null,
      "overflow_y": null,
      "padding": null,
      "right": null,
      "top": null,
      "visibility": null,
      "width": null
     }
    },
    "3aa315e84c914024b174d7a7727536d9": {
     "model_module": "@jupyter-widgets/controls",
     "model_module_version": "1.5.0",
     "model_name": "ProgressStyleModel",
     "state": {
      "_model_module": "@jupyter-widgets/controls",
      "_model_module_version": "1.5.0",
      "_model_name": "ProgressStyleModel",
      "_view_count": null,
      "_view_module": "@jupyter-widgets/base",
      "_view_module_version": "1.2.0",
      "_view_name": "StyleView",
      "bar_color": null,
      "description_width": ""
     }
    },
    "3bea0e8a4aa042329082c0bee6da1f21": {
     "model_module": "@jupyter-widgets/controls",
     "model_module_version": "1.5.0",
     "model_name": "HTMLModel",
     "state": {
      "_dom_classes": [],
      "_model_module": "@jupyter-widgets/controls",
      "_model_module_version": "1.5.0",
      "_model_name": "HTMLModel",
      "_view_count": null,
      "_view_module": "@jupyter-widgets/controls",
      "_view_module_version": "1.5.0",
      "_view_name": "HTMLView",
      "description": "",
      "description_tooltip": null,
      "layout": "IPY_MODEL_be0eaec0c5d5432a9085fc08954b4a0e",
      "placeholder": "​",
      "style": "IPY_MODEL_01a1e5a4c8e042b3873042b9c352dba2",
      "value": " 1724/1724 [02:09&lt;00:00, 15.72it/s]"
     }
    },
    "3f8aefc111804fe6bc2283f9f4878b3e": {
     "model_module": "@jupyter-widgets/controls",
     "model_module_version": "1.5.0",
     "model_name": "HTMLModel",
     "state": {
      "_dom_classes": [],
      "_model_module": "@jupyter-widgets/controls",
      "_model_module_version": "1.5.0",
      "_model_name": "HTMLModel",
      "_view_count": null,
      "_view_module": "@jupyter-widgets/controls",
      "_view_module_version": "1.5.0",
      "_view_name": "HTMLView",
      "description": "",
      "description_tooltip": null,
      "layout": "IPY_MODEL_22934b6ae4de4d5b8238c628e1f40edb",
      "placeholder": "​",
      "style": "IPY_MODEL_8e10c47b305f4a11997a66b3a74f7b83",
      "value": " 214/214 [00:00&lt;00:00, 353.03it/s]"
     }
    },
    "4206f61da93841a99743a848d99d187b": {
     "model_module": "@jupyter-widgets/controls",
     "model_module_version": "1.5.0",
     "model_name": "FloatProgressModel",
     "state": {
      "_dom_classes": [],
      "_model_module": "@jupyter-widgets/controls",
      "_model_module_version": "1.5.0",
      "_model_name": "FloatProgressModel",
      "_view_count": null,
      "_view_module": "@jupyter-widgets/controls",
      "_view_module_version": "1.5.0",
      "_view_name": "ProgressView",
      "bar_style": "success",
      "description": "",
      "description_tooltip": null,
      "layout": "IPY_MODEL_601c376ffc294d9f90b72b8f963cb370",
      "max": 432,
      "min": 0,
      "orientation": "horizontal",
      "style": "IPY_MODEL_94a08a958bd24073980d5b116ae8d20d",
      "value": 432
     }
    },
    "4435c80d3f5947f38c4c361b9edd4d92": {
     "model_module": "@jupyter-widgets/controls",
     "model_module_version": "1.5.0",
     "model_name": "DescriptionStyleModel",
     "state": {
      "_model_module": "@jupyter-widgets/controls",
      "_model_module_version": "1.5.0",
      "_model_name": "DescriptionStyleModel",
      "_view_count": null,
      "_view_module": "@jupyter-widgets/base",
      "_view_module_version": "1.2.0",
      "_view_name": "StyleView",
      "description_width": ""
     }
    },
    "4660eb20f0c84247a34ea65cd63aadd7": {
     "model_module": "@jupyter-widgets/controls",
     "model_module_version": "1.5.0",
     "model_name": "ProgressStyleModel",
     "state": {
      "_model_module": "@jupyter-widgets/controls",
      "_model_module_version": "1.5.0",
      "_model_name": "ProgressStyleModel",
      "_view_count": null,
      "_view_module": "@jupyter-widgets/base",
      "_view_module_version": "1.2.0",
      "_view_name": "StyleView",
      "bar_color": null,
      "description_width": ""
     }
    },
    "4b86c918423b4fb1be184c8222a9ba4e": {
     "model_module": "@jupyter-widgets/controls",
     "model_module_version": "1.5.0",
     "model_name": "HTMLModel",
     "state": {
      "_dom_classes": [],
      "_model_module": "@jupyter-widgets/controls",
      "_model_module_version": "1.5.0",
      "_model_name": "HTMLModel",
      "_view_count": null,
      "_view_module": "@jupyter-widgets/controls",
      "_view_module_version": "1.5.0",
      "_view_name": "HTMLView",
      "description": "",
      "description_tooltip": null,
      "layout": "IPY_MODEL_c4b54d6ebb414bf5a4c073f31c1681a6",
      "placeholder": "​",
      "style": "IPY_MODEL_8e352bde8a2249c68e198e9367c87638",
      "value": "100%"
     }
    },
    "4def493acd5c47c59aeb38c357e03dbf": {
     "model_module": "@jupyter-widgets/controls",
     "model_module_version": "1.5.0",
     "model_name": "HTMLModel",
     "state": {
      "_dom_classes": [],
      "_model_module": "@jupyter-widgets/controls",
      "_model_module_version": "1.5.0",
      "_model_name": "HTMLModel",
      "_view_count": null,
      "_view_module": "@jupyter-widgets/controls",
      "_view_module_version": "1.5.0",
      "_view_name": "HTMLView",
      "description": "",
      "description_tooltip": null,
      "layout": "IPY_MODEL_63107f0d36c14257bdfab0a6e12079eb",
      "placeholder": "​",
      "style": "IPY_MODEL_4435c80d3f5947f38c4c361b9edd4d92",
      "value": " 1724/1724 [00:04&lt;00:00, 333.94it/s]"
     }
    },
    "5325e7e863d142bf8cdf2101a1b5f6d0": {
     "model_module": "@jupyter-widgets/base",
     "model_module_version": "1.2.0",
     "model_name": "LayoutModel",
     "state": {
      "_model_module": "@jupyter-widgets/base",
      "_model_module_version": "1.2.0",
      "_model_name": "LayoutModel",
      "_view_count": null,
      "_view_module": "@jupyter-widgets/base",
      "_view_module_version": "1.2.0",
      "_view_name": "LayoutView",
      "align_content": null,
      "align_items": null,
      "align_self": null,
      "border": null,
      "bottom": null,
      "display": null,
      "flex": null,
      "flex_flow": null,
      "grid_area": null,
      "grid_auto_columns": null,
      "grid_auto_flow": null,
      "grid_auto_rows": null,
      "grid_column": null,
      "grid_gap": null,
      "grid_row": null,
      "grid_template_areas": null,
      "grid_template_columns": null,
      "grid_template_rows": null,
      "height": null,
      "justify_content": null,
      "justify_items": null,
      "left": null,
      "margin": null,
      "max_height": null,
      "max_width": null,
      "min_height": null,
      "min_width": null,
      "object_fit": null,
      "object_position": null,
      "order": null,
      "overflow": null,
      "overflow_x": null,
      "overflow_y": null,
      "padding": null,
      "right": null,
      "top": null,
      "visibility": null,
      "width": null
     }
    },
    "57a05a1afec042e7992da48704acb866": {
     "model_module": "@jupyter-widgets/base",
     "model_module_version": "1.2.0",
     "model_name": "LayoutModel",
     "state": {
      "_model_module": "@jupyter-widgets/base",
      "_model_module_version": "1.2.0",
      "_model_name": "LayoutModel",
      "_view_count": null,
      "_view_module": "@jupyter-widgets/base",
      "_view_module_version": "1.2.0",
      "_view_name": "LayoutView",
      "align_content": null,
      "align_items": null,
      "align_self": null,
      "border": null,
      "bottom": null,
      "display": null,
      "flex": null,
      "flex_flow": null,
      "grid_area": null,
      "grid_auto_columns": null,
      "grid_auto_flow": null,
      "grid_auto_rows": null,
      "grid_column": null,
      "grid_gap": null,
      "grid_row": null,
      "grid_template_areas": null,
      "grid_template_columns": null,
      "grid_template_rows": null,
      "height": null,
      "justify_content": null,
      "justify_items": null,
      "left": null,
      "margin": null,
      "max_height": null,
      "max_width": null,
      "min_height": null,
      "min_width": null,
      "object_fit": null,
      "object_position": null,
      "order": null,
      "overflow": null,
      "overflow_x": null,
      "overflow_y": null,
      "padding": null,
      "right": null,
      "top": null,
      "visibility": null,
      "width": null
     }
    },
    "5b1aacafa9d64f3eb64906ca00e5a6ad": {
     "model_module": "@jupyter-widgets/base",
     "model_module_version": "1.2.0",
     "model_name": "LayoutModel",
     "state": {
      "_model_module": "@jupyter-widgets/base",
      "_model_module_version": "1.2.0",
      "_model_name": "LayoutModel",
      "_view_count": null,
      "_view_module": "@jupyter-widgets/base",
      "_view_module_version": "1.2.0",
      "_view_name": "LayoutView",
      "align_content": null,
      "align_items": null,
      "align_self": null,
      "border": null,
      "bottom": null,
      "display": null,
      "flex": null,
      "flex_flow": null,
      "grid_area": null,
      "grid_auto_columns": null,
      "grid_auto_flow": null,
      "grid_auto_rows": null,
      "grid_column": null,
      "grid_gap": null,
      "grid_row": null,
      "grid_template_areas": null,
      "grid_template_columns": null,
      "grid_template_rows": null,
      "height": null,
      "justify_content": null,
      "justify_items": null,
      "left": null,
      "margin": null,
      "max_height": null,
      "max_width": null,
      "min_height": null,
      "min_width": null,
      "object_fit": null,
      "object_position": null,
      "order": null,
      "overflow": null,
      "overflow_x": null,
      "overflow_y": null,
      "padding": null,
      "right": null,
      "top": null,
      "visibility": null,
      "width": null
     }
    },
    "5cdc0f27abab45e88a8b2feb5939e1b5": {
     "model_module": "@jupyter-widgets/base",
     "model_module_version": "1.2.0",
     "model_name": "LayoutModel",
     "state": {
      "_model_module": "@jupyter-widgets/base",
      "_model_module_version": "1.2.0",
      "_model_name": "LayoutModel",
      "_view_count": null,
      "_view_module": "@jupyter-widgets/base",
      "_view_module_version": "1.2.0",
      "_view_name": "LayoutView",
      "align_content": null,
      "align_items": null,
      "align_self": null,
      "border": null,
      "bottom": null,
      "display": null,
      "flex": null,
      "flex_flow": null,
      "grid_area": null,
      "grid_auto_columns": null,
      "grid_auto_flow": null,
      "grid_auto_rows": null,
      "grid_column": null,
      "grid_gap": null,
      "grid_row": null,
      "grid_template_areas": null,
      "grid_template_columns": null,
      "grid_template_rows": null,
      "height": null,
      "justify_content": null,
      "justify_items": null,
      "left": null,
      "margin": null,
      "max_height": null,
      "max_width": null,
      "min_height": null,
      "min_width": null,
      "object_fit": null,
      "object_position": null,
      "order": null,
      "overflow": null,
      "overflow_x": null,
      "overflow_y": null,
      "padding": null,
      "right": null,
      "top": null,
      "visibility": null,
      "width": null
     }
    },
    "601c376ffc294d9f90b72b8f963cb370": {
     "model_module": "@jupyter-widgets/base",
     "model_module_version": "1.2.0",
     "model_name": "LayoutModel",
     "state": {
      "_model_module": "@jupyter-widgets/base",
      "_model_module_version": "1.2.0",
      "_model_name": "LayoutModel",
      "_view_count": null,
      "_view_module": "@jupyter-widgets/base",
      "_view_module_version": "1.2.0",
      "_view_name": "LayoutView",
      "align_content": null,
      "align_items": null,
      "align_self": null,
      "border": null,
      "bottom": null,
      "display": null,
      "flex": null,
      "flex_flow": null,
      "grid_area": null,
      "grid_auto_columns": null,
      "grid_auto_flow": null,
      "grid_auto_rows": null,
      "grid_column": null,
      "grid_gap": null,
      "grid_row": null,
      "grid_template_areas": null,
      "grid_template_columns": null,
      "grid_template_rows": null,
      "height": null,
      "justify_content": null,
      "justify_items": null,
      "left": null,
      "margin": null,
      "max_height": null,
      "max_width": null,
      "min_height": null,
      "min_width": null,
      "object_fit": null,
      "object_position": null,
      "order": null,
      "overflow": null,
      "overflow_x": null,
      "overflow_y": null,
      "padding": null,
      "right": null,
      "top": null,
      "visibility": null,
      "width": null
     }
    },
    "63107f0d36c14257bdfab0a6e12079eb": {
     "model_module": "@jupyter-widgets/base",
     "model_module_version": "1.2.0",
     "model_name": "LayoutModel",
     "state": {
      "_model_module": "@jupyter-widgets/base",
      "_model_module_version": "1.2.0",
      "_model_name": "LayoutModel",
      "_view_count": null,
      "_view_module": "@jupyter-widgets/base",
      "_view_module_version": "1.2.0",
      "_view_name": "LayoutView",
      "align_content": null,
      "align_items": null,
      "align_self": null,
      "border": null,
      "bottom": null,
      "display": null,
      "flex": null,
      "flex_flow": null,
      "grid_area": null,
      "grid_auto_columns": null,
      "grid_auto_flow": null,
      "grid_auto_rows": null,
      "grid_column": null,
      "grid_gap": null,
      "grid_row": null,
      "grid_template_areas": null,
      "grid_template_columns": null,
      "grid_template_rows": null,
      "height": null,
      "justify_content": null,
      "justify_items": null,
      "left": null,
      "margin": null,
      "max_height": null,
      "max_width": null,
      "min_height": null,
      "min_width": null,
      "object_fit": null,
      "object_position": null,
      "order": null,
      "overflow": null,
      "overflow_x": null,
      "overflow_y": null,
      "padding": null,
      "right": null,
      "top": null,
      "visibility": null,
      "width": null
     }
    },
    "632cd998edaf4287bddb13c5c215d3f8": {
     "model_module": "@jupyter-widgets/controls",
     "model_module_version": "1.5.0",
     "model_name": "DescriptionStyleModel",
     "state": {
      "_model_module": "@jupyter-widgets/controls",
      "_model_module_version": "1.5.0",
      "_model_name": "DescriptionStyleModel",
      "_view_count": null,
      "_view_module": "@jupyter-widgets/base",
      "_view_module_version": "1.2.0",
      "_view_name": "StyleView",
      "description_width": ""
     }
    },
    "6b2b59647c2644428a6331504544b9e2": {
     "model_module": "@jupyter-widgets/controls",
     "model_module_version": "1.5.0",
     "model_name": "HBoxModel",
     "state": {
      "_dom_classes": [],
      "_model_module": "@jupyter-widgets/controls",
      "_model_module_version": "1.5.0",
      "_model_name": "HBoxModel",
      "_view_count": null,
      "_view_module": "@jupyter-widgets/controls",
      "_view_module_version": "1.5.0",
      "_view_name": "HBoxView",
      "box_style": "",
      "children": [
       "IPY_MODEL_861ab5f35f164623b5b7d16f8134e924",
       "IPY_MODEL_7af0af6e7b804eb4b48c22552f97562c",
       "IPY_MODEL_4def493acd5c47c59aeb38c357e03dbf"
      ],
      "layout": "IPY_MODEL_c32d5e5a6da14474b2955a26517b2610"
     }
    },
    "6c7cbd497427410eabde2b55450f7be5": {
     "model_module": "@jupyter-widgets/controls",
     "model_module_version": "1.5.0",
     "model_name": "FloatProgressModel",
     "state": {
      "_dom_classes": [],
      "_model_module": "@jupyter-widgets/controls",
      "_model_module_version": "1.5.0",
      "_model_name": "FloatProgressModel",
      "_view_count": null,
      "_view_module": "@jupyter-widgets/controls",
      "_view_module_version": "1.5.0",
      "_view_name": "ProgressView",
      "bar_style": "success",
      "description": "",
      "description_tooltip": null,
      "layout": "IPY_MODEL_7a08354285f046758288f8b66afb6af6",
      "max": 1012,
      "min": 0,
      "orientation": "horizontal",
      "style": "IPY_MODEL_c5cb7abd48ad499892f1fcf5f06032ec",
      "value": 1012
     }
    },
    "773523b7900e4db7823fd2890ad8b3ce": {
     "model_module": "@jupyter-widgets/base",
     "model_module_version": "1.2.0",
     "model_name": "LayoutModel",
     "state": {
      "_model_module": "@jupyter-widgets/base",
      "_model_module_version": "1.2.0",
      "_model_name": "LayoutModel",
      "_view_count": null,
      "_view_module": "@jupyter-widgets/base",
      "_view_module_version": "1.2.0",
      "_view_name": "LayoutView",
      "align_content": null,
      "align_items": null,
      "align_self": null,
      "border": null,
      "bottom": null,
      "display": null,
      "flex": null,
      "flex_flow": null,
      "grid_area": null,
      "grid_auto_columns": null,
      "grid_auto_flow": null,
      "grid_auto_rows": null,
      "grid_column": null,
      "grid_gap": null,
      "grid_row": null,
      "grid_template_areas": null,
      "grid_template_columns": null,
      "grid_template_rows": null,
      "height": null,
      "justify_content": null,
      "justify_items": null,
      "left": null,
      "margin": null,
      "max_height": null,
      "max_width": null,
      "min_height": null,
      "min_width": null,
      "object_fit": null,
      "object_position": null,
      "order": null,
      "overflow": null,
      "overflow_x": null,
      "overflow_y": null,
      "padding": null,
      "right": null,
      "top": null,
      "visibility": null,
      "width": null
     }
    },
    "79e6d97ce186487387ef02c9a7eb6bf8": {
     "model_module": "@jupyter-widgets/controls",
     "model_module_version": "1.5.0",
     "model_name": "DescriptionStyleModel",
     "state": {
      "_model_module": "@jupyter-widgets/controls",
      "_model_module_version": "1.5.0",
      "_model_name": "DescriptionStyleModel",
      "_view_count": null,
      "_view_module": "@jupyter-widgets/base",
      "_view_module_version": "1.2.0",
      "_view_name": "StyleView",
      "description_width": ""
     }
    },
    "7a08354285f046758288f8b66afb6af6": {
     "model_module": "@jupyter-widgets/base",
     "model_module_version": "1.2.0",
     "model_name": "LayoutModel",
     "state": {
      "_model_module": "@jupyter-widgets/base",
      "_model_module_version": "1.2.0",
      "_model_name": "LayoutModel",
      "_view_count": null,
      "_view_module": "@jupyter-widgets/base",
      "_view_module_version": "1.2.0",
      "_view_name": "LayoutView",
      "align_content": null,
      "align_items": null,
      "align_self": null,
      "border": null,
      "bottom": null,
      "display": null,
      "flex": null,
      "flex_flow": null,
      "grid_area": null,
      "grid_auto_columns": null,
      "grid_auto_flow": null,
      "grid_auto_rows": null,
      "grid_column": null,
      "grid_gap": null,
      "grid_row": null,
      "grid_template_areas": null,
      "grid_template_columns": null,
      "grid_template_rows": null,
      "height": null,
      "justify_content": null,
      "justify_items": null,
      "left": null,
      "margin": null,
      "max_height": null,
      "max_width": null,
      "min_height": null,
      "min_width": null,
      "object_fit": null,
      "object_position": null,
      "order": null,
      "overflow": null,
      "overflow_x": null,
      "overflow_y": null,
      "padding": null,
      "right": null,
      "top": null,
      "visibility": null,
      "width": null
     }
    },
    "7af0af6e7b804eb4b48c22552f97562c": {
     "model_module": "@jupyter-widgets/controls",
     "model_module_version": "1.5.0",
     "model_name": "FloatProgressModel",
     "state": {
      "_dom_classes": [],
      "_model_module": "@jupyter-widgets/controls",
      "_model_module_version": "1.5.0",
      "_model_name": "FloatProgressModel",
      "_view_count": null,
      "_view_module": "@jupyter-widgets/controls",
      "_view_module_version": "1.5.0",
      "_view_name": "ProgressView",
      "bar_style": "success",
      "description": "",
      "description_tooltip": null,
      "layout": "IPY_MODEL_bb89e811bb0e4f8e9ac18f969176a05a",
      "max": 1724,
      "min": 0,
      "orientation": "horizontal",
      "style": "IPY_MODEL_a35d034dd74a4c1186b3f6d27df65806",
      "value": 1724
     }
    },
    "7f8afa431fae498db7c8a94b06798687": {
     "model_module": "@jupyter-widgets/base",
     "model_module_version": "1.2.0",
     "model_name": "LayoutModel",
     "state": {
      "_model_module": "@jupyter-widgets/base",
      "_model_module_version": "1.2.0",
      "_model_name": "LayoutModel",
      "_view_count": null,
      "_view_module": "@jupyter-widgets/base",
      "_view_module_version": "1.2.0",
      "_view_name": "LayoutView",
      "align_content": null,
      "align_items": null,
      "align_self": null,
      "border": null,
      "bottom": null,
      "display": null,
      "flex": null,
      "flex_flow": null,
      "grid_area": null,
      "grid_auto_columns": null,
      "grid_auto_flow": null,
      "grid_auto_rows": null,
      "grid_column": null,
      "grid_gap": null,
      "grid_row": null,
      "grid_template_areas": null,
      "grid_template_columns": null,
      "grid_template_rows": null,
      "height": null,
      "justify_content": null,
      "justify_items": null,
      "left": null,
      "margin": null,
      "max_height": null,
      "max_width": null,
      "min_height": null,
      "min_width": null,
      "object_fit": null,
      "object_position": null,
      "order": null,
      "overflow": null,
      "overflow_x": null,
      "overflow_y": null,
      "padding": null,
      "right": null,
      "top": null,
      "visibility": null,
      "width": null
     }
    },
    "861ab5f35f164623b5b7d16f8134e924": {
     "model_module": "@jupyter-widgets/controls",
     "model_module_version": "1.5.0",
     "model_name": "HTMLModel",
     "state": {
      "_dom_classes": [],
      "_model_module": "@jupyter-widgets/controls",
      "_model_module_version": "1.5.0",
      "_model_name": "HTMLModel",
      "_view_count": null,
      "_view_module": "@jupyter-widgets/controls",
      "_view_module_version": "1.5.0",
      "_view_name": "HTMLView",
      "description": "",
      "description_tooltip": null,
      "layout": "IPY_MODEL_5325e7e863d142bf8cdf2101a1b5f6d0",
      "placeholder": "​",
      "style": "IPY_MODEL_294cccdc535e4707981b2895b5bdd385",
      "value": "100%"
     }
    },
    "8b34091765434f9fae3c0a704c3d5008": {
     "model_module": "@jupyter-widgets/controls",
     "model_module_version": "1.5.0",
     "model_name": "DescriptionStyleModel",
     "state": {
      "_model_module": "@jupyter-widgets/controls",
      "_model_module_version": "1.5.0",
      "_model_name": "DescriptionStyleModel",
      "_view_count": null,
      "_view_module": "@jupyter-widgets/base",
      "_view_module_version": "1.2.0",
      "_view_name": "StyleView",
      "description_width": ""
     }
    },
    "8e10c47b305f4a11997a66b3a74f7b83": {
     "model_module": "@jupyter-widgets/controls",
     "model_module_version": "1.5.0",
     "model_name": "DescriptionStyleModel",
     "state": {
      "_model_module": "@jupyter-widgets/controls",
      "_model_module_version": "1.5.0",
      "_model_name": "DescriptionStyleModel",
      "_view_count": null,
      "_view_module": "@jupyter-widgets/base",
      "_view_module_version": "1.2.0",
      "_view_name": "StyleView",
      "description_width": ""
     }
    },
    "8e352bde8a2249c68e198e9367c87638": {
     "model_module": "@jupyter-widgets/controls",
     "model_module_version": "1.5.0",
     "model_name": "DescriptionStyleModel",
     "state": {
      "_model_module": "@jupyter-widgets/controls",
      "_model_module_version": "1.5.0",
      "_model_name": "DescriptionStyleModel",
      "_view_count": null,
      "_view_module": "@jupyter-widgets/base",
      "_view_module_version": "1.2.0",
      "_view_name": "StyleView",
      "description_width": ""
     }
    },
    "8fb7dedb9b674a5084282e32a9b71222": {
     "model_module": "@jupyter-widgets/controls",
     "model_module_version": "1.5.0",
     "model_name": "HTMLModel",
     "state": {
      "_dom_classes": [],
      "_model_module": "@jupyter-widgets/controls",
      "_model_module_version": "1.5.0",
      "_model_name": "HTMLModel",
      "_view_count": null,
      "_view_module": "@jupyter-widgets/controls",
      "_view_module_version": "1.5.0",
      "_view_name": "HTMLView",
      "description": "",
      "description_tooltip": null,
      "layout": "IPY_MODEL_5b1aacafa9d64f3eb64906ca00e5a6ad",
      "placeholder": "​",
      "style": "IPY_MODEL_8b34091765434f9fae3c0a704c3d5008",
      "value": "100%"
     }
    },
    "94a08a958bd24073980d5b116ae8d20d": {
     "model_module": "@jupyter-widgets/controls",
     "model_module_version": "1.5.0",
     "model_name": "ProgressStyleModel",
     "state": {
      "_model_module": "@jupyter-widgets/controls",
      "_model_module_version": "1.5.0",
      "_model_name": "ProgressStyleModel",
      "_view_count": null,
      "_view_module": "@jupyter-widgets/base",
      "_view_module_version": "1.2.0",
      "_view_name": "StyleView",
      "bar_color": null,
      "description_width": ""
     }
    },
    "a35d034dd74a4c1186b3f6d27df65806": {
     "model_module": "@jupyter-widgets/controls",
     "model_module_version": "1.5.0",
     "model_name": "ProgressStyleModel",
     "state": {
      "_model_module": "@jupyter-widgets/controls",
      "_model_module_version": "1.5.0",
      "_model_name": "ProgressStyleModel",
      "_view_count": null,
      "_view_module": "@jupyter-widgets/base",
      "_view_module_version": "1.2.0",
      "_view_name": "StyleView",
      "bar_color": null,
      "description_width": ""
     }
    },
    "a60d10812d234432bc9dfbe8be6a5f00": {
     "model_module": "@jupyter-widgets/base",
     "model_module_version": "1.2.0",
     "model_name": "LayoutModel",
     "state": {
      "_model_module": "@jupyter-widgets/base",
      "_model_module_version": "1.2.0",
      "_model_name": "LayoutModel",
      "_view_count": null,
      "_view_module": "@jupyter-widgets/base",
      "_view_module_version": "1.2.0",
      "_view_name": "LayoutView",
      "align_content": null,
      "align_items": null,
      "align_self": null,
      "border": null,
      "bottom": null,
      "display": null,
      "flex": null,
      "flex_flow": null,
      "grid_area": null,
      "grid_auto_columns": null,
      "grid_auto_flow": null,
      "grid_auto_rows": null,
      "grid_column": null,
      "grid_gap": null,
      "grid_row": null,
      "grid_template_areas": null,
      "grid_template_columns": null,
      "grid_template_rows": null,
      "height": null,
      "justify_content": null,
      "justify_items": null,
      "left": null,
      "margin": null,
      "max_height": null,
      "max_width": null,
      "min_height": null,
      "min_width": null,
      "object_fit": null,
      "object_position": null,
      "order": null,
      "overflow": null,
      "overflow_x": null,
      "overflow_y": null,
      "padding": null,
      "right": null,
      "top": null,
      "visibility": null,
      "width": null
     }
    },
    "abe987d73d3549d797294ae3416dbbf2": {
     "model_module": "@jupyter-widgets/controls",
     "model_module_version": "1.5.0",
     "model_name": "FloatProgressModel",
     "state": {
      "_dom_classes": [],
      "_model_module": "@jupyter-widgets/controls",
      "_model_module_version": "1.5.0",
      "_model_name": "FloatProgressModel",
      "_view_count": null,
      "_view_module": "@jupyter-widgets/controls",
      "_view_module_version": "1.5.0",
      "_view_name": "ProgressView",
      "bar_style": "success",
      "description": "",
      "description_tooltip": null,
      "layout": "IPY_MODEL_353ba52d10704a38b80fa71660d8b035",
      "max": 1724,
      "min": 0,
      "orientation": "horizontal",
      "style": "IPY_MODEL_00b21f79e97c4e2e88747eaae60e8774",
      "value": 1724
     }
    },
    "b1dc429d40634ab1b081ce9895cd7da9": {
     "model_module": "@jupyter-widgets/controls",
     "model_module_version": "1.5.0",
     "model_name": "HTMLModel",
     "state": {
      "_dom_classes": [],
      "_model_module": "@jupyter-widgets/controls",
      "_model_module_version": "1.5.0",
      "_model_name": "HTMLModel",
      "_view_count": null,
      "_view_module": "@jupyter-widgets/controls",
      "_view_module_version": "1.5.0",
      "_view_name": "HTMLView",
      "description": "",
      "description_tooltip": null,
      "layout": "IPY_MODEL_19c470c565b943caa51ffd85f4378b02",
      "placeholder": "​",
      "style": "IPY_MODEL_c1686e8f9e3b4a2e8ad4a4151cd33a2a",
      "value": "100%"
     }
    },
    "b6556dca7ba84b79b68f5ad42df30fda": {
     "model_module": "@jupyter-widgets/base",
     "model_module_version": "1.2.0",
     "model_name": "LayoutModel",
     "state": {
      "_model_module": "@jupyter-widgets/base",
      "_model_module_version": "1.2.0",
      "_model_name": "LayoutModel",
      "_view_count": null,
      "_view_module": "@jupyter-widgets/base",
      "_view_module_version": "1.2.0",
      "_view_name": "LayoutView",
      "align_content": null,
      "align_items": null,
      "align_self": null,
      "border": null,
      "bottom": null,
      "display": null,
      "flex": null,
      "flex_flow": null,
      "grid_area": null,
      "grid_auto_columns": null,
      "grid_auto_flow": null,
      "grid_auto_rows": null,
      "grid_column": null,
      "grid_gap": null,
      "grid_row": null,
      "grid_template_areas": null,
      "grid_template_columns": null,
      "grid_template_rows": null,
      "height": null,
      "justify_content": null,
      "justify_items": null,
      "left": null,
      "margin": null,
      "max_height": null,
      "max_width": null,
      "min_height": null,
      "min_width": null,
      "object_fit": null,
      "object_position": null,
      "order": null,
      "overflow": null,
      "overflow_x": null,
      "overflow_y": null,
      "padding": null,
      "right": null,
      "top": null,
      "visibility": null,
      "width": null
     }
    },
    "bb01783bf9834e21958673e1588c80c0": {
     "model_module": "@jupyter-widgets/base",
     "model_module_version": "1.2.0",
     "model_name": "LayoutModel",
     "state": {
      "_model_module": "@jupyter-widgets/base",
      "_model_module_version": "1.2.0",
      "_model_name": "LayoutModel",
      "_view_count": null,
      "_view_module": "@jupyter-widgets/base",
      "_view_module_version": "1.2.0",
      "_view_name": "LayoutView",
      "align_content": null,
      "align_items": null,
      "align_self": null,
      "border": null,
      "bottom": null,
      "display": null,
      "flex": null,
      "flex_flow": null,
      "grid_area": null,
      "grid_auto_columns": null,
      "grid_auto_flow": null,
      "grid_auto_rows": null,
      "grid_column": null,
      "grid_gap": null,
      "grid_row": null,
      "grid_template_areas": null,
      "grid_template_columns": null,
      "grid_template_rows": null,
      "height": null,
      "justify_content": null,
      "justify_items": null,
      "left": null,
      "margin": null,
      "max_height": null,
      "max_width": null,
      "min_height": null,
      "min_width": null,
      "object_fit": null,
      "object_position": null,
      "order": null,
      "overflow": null,
      "overflow_x": null,
      "overflow_y": null,
      "padding": null,
      "right": null,
      "top": null,
      "visibility": null,
      "width": null
     }
    },
    "bb89e811bb0e4f8e9ac18f969176a05a": {
     "model_module": "@jupyter-widgets/base",
     "model_module_version": "1.2.0",
     "model_name": "LayoutModel",
     "state": {
      "_model_module": "@jupyter-widgets/base",
      "_model_module_version": "1.2.0",
      "_model_name": "LayoutModel",
      "_view_count": null,
      "_view_module": "@jupyter-widgets/base",
      "_view_module_version": "1.2.0",
      "_view_name": "LayoutView",
      "align_content": null,
      "align_items": null,
      "align_self": null,
      "border": null,
      "bottom": null,
      "display": null,
      "flex": null,
      "flex_flow": null,
      "grid_area": null,
      "grid_auto_columns": null,
      "grid_auto_flow": null,
      "grid_auto_rows": null,
      "grid_column": null,
      "grid_gap": null,
      "grid_row": null,
      "grid_template_areas": null,
      "grid_template_columns": null,
      "grid_template_rows": null,
      "height": null,
      "justify_content": null,
      "justify_items": null,
      "left": null,
      "margin": null,
      "max_height": null,
      "max_width": null,
      "min_height": null,
      "min_width": null,
      "object_fit": null,
      "object_position": null,
      "order": null,
      "overflow": null,
      "overflow_x": null,
      "overflow_y": null,
      "padding": null,
      "right": null,
      "top": null,
      "visibility": null,
      "width": null
     }
    },
    "bd94bbef36bd4f9fbd934684733b910c": {
     "model_module": "@jupyter-widgets/controls",
     "model_module_version": "1.5.0",
     "model_name": "HBoxModel",
     "state": {
      "_dom_classes": [],
      "_model_module": "@jupyter-widgets/controls",
      "_model_module_version": "1.5.0",
      "_model_name": "HBoxModel",
      "_view_count": null,
      "_view_module": "@jupyter-widgets/controls",
      "_view_module_version": "1.5.0",
      "_view_name": "HBoxView",
      "box_style": "",
      "children": [
       "IPY_MODEL_8fb7dedb9b674a5084282e32a9b71222",
       "IPY_MODEL_6c7cbd497427410eabde2b55450f7be5",
       "IPY_MODEL_dc477c7c404f4c92b2a41bfcd8678759"
      ],
      "layout": "IPY_MODEL_bb01783bf9834e21958673e1588c80c0"
     }
    },
    "be0eaec0c5d5432a9085fc08954b4a0e": {
     "model_module": "@jupyter-widgets/base",
     "model_module_version": "1.2.0",
     "model_name": "LayoutModel",
     "state": {
      "_model_module": "@jupyter-widgets/base",
      "_model_module_version": "1.2.0",
      "_model_name": "LayoutModel",
      "_view_count": null,
      "_view_module": "@jupyter-widgets/base",
      "_view_module_version": "1.2.0",
      "_view_name": "LayoutView",
      "align_content": null,
      "align_items": null,
      "align_self": null,
      "border": null,
      "bottom": null,
      "display": null,
      "flex": null,
      "flex_flow": null,
      "grid_area": null,
      "grid_auto_columns": null,
      "grid_auto_flow": null,
      "grid_auto_rows": null,
      "grid_column": null,
      "grid_gap": null,
      "grid_row": null,
      "grid_template_areas": null,
      "grid_template_columns": null,
      "grid_template_rows": null,
      "height": null,
      "justify_content": null,
      "justify_items": null,
      "left": null,
      "margin": null,
      "max_height": null,
      "max_width": null,
      "min_height": null,
      "min_width": null,
      "object_fit": null,
      "object_position": null,
      "order": null,
      "overflow": null,
      "overflow_x": null,
      "overflow_y": null,
      "padding": null,
      "right": null,
      "top": null,
      "visibility": null,
      "width": null
     }
    },
    "c0e31ab54c5e439c99cdef881a1b4ac7": {
     "model_module": "@jupyter-widgets/controls",
     "model_module_version": "1.5.0",
     "model_name": "DescriptionStyleModel",
     "state": {
      "_model_module": "@jupyter-widgets/controls",
      "_model_module_version": "1.5.0",
      "_model_name": "DescriptionStyleModel",
      "_view_count": null,
      "_view_module": "@jupyter-widgets/base",
      "_view_module_version": "1.2.0",
      "_view_name": "StyleView",
      "description_width": ""
     }
    },
    "c1686e8f9e3b4a2e8ad4a4151cd33a2a": {
     "model_module": "@jupyter-widgets/controls",
     "model_module_version": "1.5.0",
     "model_name": "DescriptionStyleModel",
     "state": {
      "_model_module": "@jupyter-widgets/controls",
      "_model_module_version": "1.5.0",
      "_model_name": "DescriptionStyleModel",
      "_view_count": null,
      "_view_module": "@jupyter-widgets/base",
      "_view_module_version": "1.2.0",
      "_view_name": "StyleView",
      "description_width": ""
     }
    },
    "c26a15527d7845b68447ed9b6361ebc1": {
     "model_module": "@jupyter-widgets/controls",
     "model_module_version": "1.5.0",
     "model_name": "HBoxModel",
     "state": {
      "_dom_classes": [],
      "_model_module": "@jupyter-widgets/controls",
      "_model_module_version": "1.5.0",
      "_model_name": "HBoxModel",
      "_view_count": null,
      "_view_module": "@jupyter-widgets/controls",
      "_view_module_version": "1.5.0",
      "_view_name": "HBoxView",
      "box_style": "",
      "children": [
       "IPY_MODEL_d6662c57e3744d1b93f9983d4b0987d2",
       "IPY_MODEL_296bd13579b04bdca95711bff53caa6e",
       "IPY_MODEL_02f468773b3444a783f5822d0c5b6788"
      ],
      "layout": "IPY_MODEL_b6556dca7ba84b79b68f5ad42df30fda"
     }
    },
    "c32d5e5a6da14474b2955a26517b2610": {
     "model_module": "@jupyter-widgets/base",
     "model_module_version": "1.2.0",
     "model_name": "LayoutModel",
     "state": {
      "_model_module": "@jupyter-widgets/base",
      "_model_module_version": "1.2.0",
      "_model_name": "LayoutModel",
      "_view_count": null,
      "_view_module": "@jupyter-widgets/base",
      "_view_module_version": "1.2.0",
      "_view_name": "LayoutView",
      "align_content": null,
      "align_items": null,
      "align_self": null,
      "border": null,
      "bottom": null,
      "display": null,
      "flex": null,
      "flex_flow": null,
      "grid_area": null,
      "grid_auto_columns": null,
      "grid_auto_flow": null,
      "grid_auto_rows": null,
      "grid_column": null,
      "grid_gap": null,
      "grid_row": null,
      "grid_template_areas": null,
      "grid_template_columns": null,
      "grid_template_rows": null,
      "height": null,
      "justify_content": null,
      "justify_items": null,
      "left": null,
      "margin": null,
      "max_height": null,
      "max_width": null,
      "min_height": null,
      "min_width": null,
      "object_fit": null,
      "object_position": null,
      "order": null,
      "overflow": null,
      "overflow_x": null,
      "overflow_y": null,
      "padding": null,
      "right": null,
      "top": null,
      "visibility": null,
      "width": null
     }
    },
    "c4b54d6ebb414bf5a4c073f31c1681a6": {
     "model_module": "@jupyter-widgets/base",
     "model_module_version": "1.2.0",
     "model_name": "LayoutModel",
     "state": {
      "_model_module": "@jupyter-widgets/base",
      "_model_module_version": "1.2.0",
      "_model_name": "LayoutModel",
      "_view_count": null,
      "_view_module": "@jupyter-widgets/base",
      "_view_module_version": "1.2.0",
      "_view_name": "LayoutView",
      "align_content": null,
      "align_items": null,
      "align_self": null,
      "border": null,
      "bottom": null,
      "display": null,
      "flex": null,
      "flex_flow": null,
      "grid_area": null,
      "grid_auto_columns": null,
      "grid_auto_flow": null,
      "grid_auto_rows": null,
      "grid_column": null,
      "grid_gap": null,
      "grid_row": null,
      "grid_template_areas": null,
      "grid_template_columns": null,
      "grid_template_rows": null,
      "height": null,
      "justify_content": null,
      "justify_items": null,
      "left": null,
      "margin": null,
      "max_height": null,
      "max_width": null,
      "min_height": null,
      "min_width": null,
      "object_fit": null,
      "object_position": null,
      "order": null,
      "overflow": null,
      "overflow_x": null,
      "overflow_y": null,
      "padding": null,
      "right": null,
      "top": null,
      "visibility": null,
      "width": null
     }
    },
    "c5cb7abd48ad499892f1fcf5f06032ec": {
     "model_module": "@jupyter-widgets/controls",
     "model_module_version": "1.5.0",
     "model_name": "ProgressStyleModel",
     "state": {
      "_model_module": "@jupyter-widgets/controls",
      "_model_module_version": "1.5.0",
      "_model_name": "ProgressStyleModel",
      "_view_count": null,
      "_view_module": "@jupyter-widgets/base",
      "_view_module_version": "1.2.0",
      "_view_name": "StyleView",
      "bar_color": null,
      "description_width": ""
     }
    },
    "c6148236985441deb46611c0a49d75f2": {
     "model_module": "@jupyter-widgets/controls",
     "model_module_version": "1.5.0",
     "model_name": "DescriptionStyleModel",
     "state": {
      "_model_module": "@jupyter-widgets/controls",
      "_model_module_version": "1.5.0",
      "_model_name": "DescriptionStyleModel",
      "_view_count": null,
      "_view_module": "@jupyter-widgets/base",
      "_view_module_version": "1.2.0",
      "_view_name": "StyleView",
      "description_width": ""
     }
    },
    "d04141cafe1446e1bba97971de2fa0e6": {
     "model_module": "@jupyter-widgets/controls",
     "model_module_version": "1.5.0",
     "model_name": "HBoxModel",
     "state": {
      "_dom_classes": [],
      "_model_module": "@jupyter-widgets/controls",
      "_model_module_version": "1.5.0",
      "_model_name": "HBoxModel",
      "_view_count": null,
      "_view_module": "@jupyter-widgets/controls",
      "_view_module_version": "1.5.0",
      "_view_name": "HBoxView",
      "box_style": "",
      "children": [
       "IPY_MODEL_eaeaad61a38d4895a8b47aa4de45bd28",
       "IPY_MODEL_ec4bc043e6ec40719d6efdb7183cf3e6",
       "IPY_MODEL_3f8aefc111804fe6bc2283f9f4878b3e"
      ],
      "layout": "IPY_MODEL_773523b7900e4db7823fd2890ad8b3ce"
     }
    },
    "d6662c57e3744d1b93f9983d4b0987d2": {
     "model_module": "@jupyter-widgets/controls",
     "model_module_version": "1.5.0",
     "model_name": "HTMLModel",
     "state": {
      "_dom_classes": [],
      "_model_module": "@jupyter-widgets/controls",
      "_model_module_version": "1.5.0",
      "_model_name": "HTMLModel",
      "_view_count": null,
      "_view_module": "@jupyter-widgets/controls",
      "_view_module_version": "1.5.0",
      "_view_name": "HTMLView",
      "description": "",
      "description_tooltip": null,
      "layout": "IPY_MODEL_db785aaf47844089bc9d184e39523b33",
      "placeholder": "​",
      "style": "IPY_MODEL_c6148236985441deb46611c0a49d75f2",
      "value": "100%"
     }
    },
    "db785aaf47844089bc9d184e39523b33": {
     "model_module": "@jupyter-widgets/base",
     "model_module_version": "1.2.0",
     "model_name": "LayoutModel",
     "state": {
      "_model_module": "@jupyter-widgets/base",
      "_model_module_version": "1.2.0",
      "_model_name": "LayoutModel",
      "_view_count": null,
      "_view_module": "@jupyter-widgets/base",
      "_view_module_version": "1.2.0",
      "_view_name": "LayoutView",
      "align_content": null,
      "align_items": null,
      "align_self": null,
      "border": null,
      "bottom": null,
      "display": null,
      "flex": null,
      "flex_flow": null,
      "grid_area": null,
      "grid_auto_columns": null,
      "grid_auto_flow": null,
      "grid_auto_rows": null,
      "grid_column": null,
      "grid_gap": null,
      "grid_row": null,
      "grid_template_areas": null,
      "grid_template_columns": null,
      "grid_template_rows": null,
      "height": null,
      "justify_content": null,
      "justify_items": null,
      "left": null,
      "margin": null,
      "max_height": null,
      "max_width": null,
      "min_height": null,
      "min_width": null,
      "object_fit": null,
      "object_position": null,
      "order": null,
      "overflow": null,
      "overflow_x": null,
      "overflow_y": null,
      "padding": null,
      "right": null,
      "top": null,
      "visibility": null,
      "width": null
     }
    },
    "dc477c7c404f4c92b2a41bfcd8678759": {
     "model_module": "@jupyter-widgets/controls",
     "model_module_version": "1.5.0",
     "model_name": "HTMLModel",
     "state": {
      "_dom_classes": [],
      "_model_module": "@jupyter-widgets/controls",
      "_model_module_version": "1.5.0",
      "_model_name": "HTMLModel",
      "_view_count": null,
      "_view_module": "@jupyter-widgets/controls",
      "_view_module_version": "1.5.0",
      "_view_name": "HTMLView",
      "description": "",
      "description_tooltip": null,
      "layout": "IPY_MODEL_1b9a4fe08d984d71a36c7af663bb2a76",
      "placeholder": "​",
      "style": "IPY_MODEL_c0e31ab54c5e439c99cdef881a1b4ac7",
      "value": " 1012/1012 [00:03&lt;00:00, 376.02it/s]"
     }
    },
    "eaeaad61a38d4895a8b47aa4de45bd28": {
     "model_module": "@jupyter-widgets/controls",
     "model_module_version": "1.5.0",
     "model_name": "HTMLModel",
     "state": {
      "_dom_classes": [],
      "_model_module": "@jupyter-widgets/controls",
      "_model_module_version": "1.5.0",
      "_model_name": "HTMLModel",
      "_view_count": null,
      "_view_module": "@jupyter-widgets/controls",
      "_view_module_version": "1.5.0",
      "_view_name": "HTMLView",
      "description": "",
      "description_tooltip": null,
      "layout": "IPY_MODEL_5cdc0f27abab45e88a8b2feb5939e1b5",
      "placeholder": "​",
      "style": "IPY_MODEL_332599055e7e45cfb96c1f75b86ef563",
      "value": "100%"
     }
    },
    "ec0b390d5961444ba64ae8abc50bb713": {
     "model_module": "@jupyter-widgets/base",
     "model_module_version": "1.2.0",
     "model_name": "LayoutModel",
     "state": {
      "_model_module": "@jupyter-widgets/base",
      "_model_module_version": "1.2.0",
      "_model_name": "LayoutModel",
      "_view_count": null,
      "_view_module": "@jupyter-widgets/base",
      "_view_module_version": "1.2.0",
      "_view_name": "LayoutView",
      "align_content": null,
      "align_items": null,
      "align_self": null,
      "border": null,
      "bottom": null,
      "display": null,
      "flex": null,
      "flex_flow": null,
      "grid_area": null,
      "grid_auto_columns": null,
      "grid_auto_flow": null,
      "grid_auto_rows": null,
      "grid_column": null,
      "grid_gap": null,
      "grid_row": null,
      "grid_template_areas": null,
      "grid_template_columns": null,
      "grid_template_rows": null,
      "height": null,
      "justify_content": null,
      "justify_items": null,
      "left": null,
      "margin": null,
      "max_height": null,
      "max_width": null,
      "min_height": null,
      "min_width": null,
      "object_fit": null,
      "object_position": null,
      "order": null,
      "overflow": null,
      "overflow_x": null,
      "overflow_y": null,
      "padding": null,
      "right": null,
      "top": null,
      "visibility": null,
      "width": null
     }
    },
    "ec4bc043e6ec40719d6efdb7183cf3e6": {
     "model_module": "@jupyter-widgets/controls",
     "model_module_version": "1.5.0",
     "model_name": "FloatProgressModel",
     "state": {
      "_dom_classes": [],
      "_model_module": "@jupyter-widgets/controls",
      "_model_module_version": "1.5.0",
      "_model_name": "FloatProgressModel",
      "_view_count": null,
      "_view_module": "@jupyter-widgets/controls",
      "_view_module_version": "1.5.0",
      "_view_name": "ProgressView",
      "bar_style": "success",
      "description": "",
      "description_tooltip": null,
      "layout": "IPY_MODEL_0024d8e3826e4746a9ba2f9dddd36d95",
      "max": 214,
      "min": 0,
      "orientation": "horizontal",
      "style": "IPY_MODEL_3aa315e84c914024b174d7a7727536d9",
      "value": 214
     }
    },
    "f88fc6fb558f46e1bdcf6706283021c2": {
     "model_module": "@jupyter-widgets/controls",
     "model_module_version": "1.5.0",
     "model_name": "HBoxModel",
     "state": {
      "_dom_classes": [],
      "_model_module": "@jupyter-widgets/controls",
      "_model_module_version": "1.5.0",
      "_model_name": "HBoxModel",
      "_view_count": null,
      "_view_module": "@jupyter-widgets/controls",
      "_view_module_version": "1.5.0",
      "_view_name": "HBoxView",
      "box_style": "",
      "children": [
       "IPY_MODEL_b1dc429d40634ab1b081ce9895cd7da9",
       "IPY_MODEL_4206f61da93841a99743a848d99d187b",
       "IPY_MODEL_0e1d0391584341bfa0119948c6f1ff18"
      ],
      "layout": "IPY_MODEL_57a05a1afec042e7992da48704acb866"
     }
    },
    "feb39219674b4849a25eb9e9fcd8dc6c": {
     "model_module": "@jupyter-widgets/base",
     "model_module_version": "1.2.0",
     "model_name": "LayoutModel",
     "state": {
      "_model_module": "@jupyter-widgets/base",
      "_model_module_version": "1.2.0",
      "_model_name": "LayoutModel",
      "_view_count": null,
      "_view_module": "@jupyter-widgets/base",
      "_view_module_version": "1.2.0",
      "_view_name": "LayoutView",
      "align_content": null,
      "align_items": null,
      "align_self": null,
      "border": null,
      "bottom": null,
      "display": null,
      "flex": null,
      "flex_flow": null,
      "grid_area": null,
      "grid_auto_columns": null,
      "grid_auto_flow": null,
      "grid_auto_rows": null,
      "grid_column": null,
      "grid_gap": null,
      "grid_row": null,
      "grid_template_areas": null,
      "grid_template_columns": null,
      "grid_template_rows": null,
      "height": null,
      "justify_content": null,
      "justify_items": null,
      "left": null,
      "margin": null,
      "max_height": null,
      "max_width": null,
      "min_height": null,
      "min_width": null,
      "object_fit": null,
      "object_position": null,
      "order": null,
      "overflow": null,
      "overflow_x": null,
      "overflow_y": null,
      "padding": null,
      "right": null,
      "top": null,
      "visibility": null,
      "width": null
     }
    },
    "ff757bae623b4fed8225b3998983d6c3": {
     "model_module": "@jupyter-widgets/controls",
     "model_module_version": "1.5.0",
     "model_name": "HBoxModel",
     "state": {
      "_dom_classes": [],
      "_model_module": "@jupyter-widgets/controls",
      "_model_module_version": "1.5.0",
      "_model_name": "HBoxModel",
      "_view_count": null,
      "_view_module": "@jupyter-widgets/controls",
      "_view_module_version": "1.5.0",
      "_view_name": "HBoxView",
      "box_style": "",
      "children": [
       "IPY_MODEL_4b86c918423b4fb1be184c8222a9ba4e",
       "IPY_MODEL_abe987d73d3549d797294ae3416dbbf2",
       "IPY_MODEL_3bea0e8a4aa042329082c0bee6da1f21"
      ],
      "layout": "IPY_MODEL_feb39219674b4849a25eb9e9fcd8dc6c"
     }
    }
   }
  }
 },
 "nbformat": 4,
 "nbformat_minor": 1
}
